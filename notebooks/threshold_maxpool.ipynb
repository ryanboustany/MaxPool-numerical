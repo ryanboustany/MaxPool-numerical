{
 "cells": [
  {
   "cell_type": "markdown",
   "metadata": {
    "tags": []
   },
   "source": [
    "### Import librairies"
   ]
  },
  {
   "cell_type": "code",
   "execution_count": null,
   "metadata": {},
   "outputs": [],
   "source": [
    "import sys\n",
    "import os\n",
    "sys.path.insert(0,'..')"
   ]
  },
  {
   "cell_type": "code",
   "execution_count": null,
   "metadata": {},
   "outputs": [],
   "source": [
    "import numpy as np\n",
    "import pandas as pd\n",
    "import numpy.random as npr\n",
    "import torch\n",
    "import torch.nn as nn\n",
    "from data_utils import *\n",
    "from relu import *\n",
    "from maxpool import *\n",
    "from models import *\n",
    "from data_utils import *\n",
    "import torch.optim as optim\n",
    "import torch.nn.init as init\n",
    "import torchvision\n",
    "from torchvision import datasets, transforms\n",
    "import torch.backends.cudnn as cudnn\n",
    "from tqdm import tqdm\n",
    "import matplotlib.pyplot as plt\n",
    "from matplotlib.ticker import AutoMinorLocator\n",
    "from tqdm.notebook import tqdm\n",
    "%matplotlib inline"
   ]
  },
  {
   "cell_type": "code",
   "execution_count": null,
   "metadata": {},
   "outputs": [],
   "source": [
    "seed = 0\n",
    "torch.manual_seed(seed)\n",
    "torch.cuda.manual_seed(seed)\n",
    "torch.cuda.manual_seed_all(seed)\n",
    "torch.use_deterministic_algorithms(True)\n",
    "os.environ[\"CUBLAS_WORKSPACE_CONFIG\"]=\":4096:8\"\n",
    "device = torch.device(\"cuda\" if torch.cuda.is_available() else \"cpu\")\n",
    "if torch.cuda.is_available():\n",
    "    cudnn.benchmark = False\n",
    "    # Deterministic convolutions\n",
    "    torch.backends.cudnn.deterministic = True"
   ]
  },
  {
   "cell_type": "markdown",
   "metadata": {
    "tags": []
   },
   "source": [
    "### Builds models "
   ]
  },
  {
   "cell_type": "code",
   "execution_count": null,
   "metadata": {},
   "outputs": [],
   "source": [
    "maxpool_native = lambda: MaxPool2DBeta(0)\n",
    "maxpool_custom = lambda: MaxPool2DBeta(1)\n",
    "relu_0 = lambda:ReLUAlpha(0)\n",
    "relu_1 = lambda:ReLUAlpha(1)\n",
    "\n",
    "def init_weights(model):\n",
    "    for m in model.modules():\n",
    "        if isinstance(m, nn.Conv2d):\n",
    "            init.kaiming_uniform_(m.weight, mode='fan_in')\n",
    "            if m.bias is not None:\n",
    "                nn.init.constant_(m.bias, 0)\n",
    "        elif isinstance(m, nn.BatchNorm2d):\n",
    "            nn.init.constant_(m.weight, 1)\n",
    "            nn.init.constant_(m.bias, 0)\n",
    "        elif isinstance(m, nn.Linear):\n",
    "            init.normal_(m.weight, 0, 0.01)\n",
    "            if m.bias is not None:\n",
    "                nn.init.constant_(m.bias, 0)\n",
    "\n",
    "def weight_reset(m):\n",
    "    if isinstance(m, nn.Conv2d) or isinstance(m, nn.Linear):\n",
    "        m.reset_parameters()\n",
    "        \n",
    "def build_models(network, precision, beta, alpha):\n",
    "    if network == \"vgg11\":\n",
    "        net1 = VGG(\"VGG11\", maxpool_fn=maxpool_native, relu_fn=relu_0)\n",
    "        net2 = VGG(\"VGG11\", maxpool_fn=lambda: MaxPool2DBeta(beta), relu_fn=lambda: ReLUAlpha(alpha))\n",
    "    elif network == \"vgg13\":\n",
    "        net1 = VGG(\"VGG13\", maxpool_fn=maxpool_native, relu_fn=relu_0)\n",
    "        net2 = VGG(\"VGG13\", maxpool_fn=lambda: MaxPool2DBeta(beta), relu_fn=lambda: ReLUAlpha(alpha))\n",
    "    elif network == \"vgg16\":\n",
    "        net1 = VGG(\"VGG16\", maxpool_fn=maxpool_native, relu_fn=relu_0)\n",
    "        net2 = VGG(\"VGG16\", maxpool_fn=lambda: MaxPool2DBeta(beta), relu_fn=lambda: ReLUAlpha(alpha))\n",
    "    elif network == \"vgg19\":\n",
    "        net1 = VGG(\"VGG19\", maxpool_fn=maxpool_native, relu_fn=relu_0)\n",
    "        net2 = VGG(\"VGG19\", maxpool_fn=lambda: MaxPool2DBeta(beta), relu_fn=lambda: ReLUAlpha(alpha))\n",
    "    elif network == \"resnet18\":\n",
    "        net1 = resnet18(norm_layer=nn.Identity, maxpool_fn=maxpool_native, relu_fn=relu_0)\n",
    "        net2 = resnet18(norm_layer=nn.Identity, maxpool_fn=lambda: MaxPool2DBeta(beta), relu_fn=lambda: ReLUAlpha(alpha))\n",
    "    elif network == \"resnet50\":\n",
    "        net1 = resnet50(norm_layer=nn.Identity, maxpool_fn=maxpool_native, relu_fn=relu_0)\n",
    "        net2 = resnet50(norm_layer=nn.Identity, maxpool_fn=lambda: MaxPool2DBeta(beta), relu_fn=lambda: ReLUAlpha(alpha))\n",
    "    elif network == \"densenet121\":\n",
    "        net1 = densenet121(norm_layer=nn.Identity,maxpool_fn=maxpool_native, relu_fn=relu_0, num_classes=100)\n",
    "        net2 = densenet121(norm_layer=nn.Identity, maxpool_fn=lambda: MaxPool2DBeta(beta), relu_fn=lambda: ReLUAlpha(alpha), num_classes=100)\n",
    "    elif network == \"lenet\":\n",
    "        net1 = LeNet5(maxpool_fn=maxpool_native, relu_fn=relu_0)\n",
    "        net2 = LeNet5(maxpool_fn=lambda: MaxPool2DBeta(beta), relu_fn=lambda: ReLUAlpha(alpha))\n",
    "    else:\n",
    "        raise ValueError(\"Invalid network name.\")\n",
    "\n",
    "    for net in [net1, net2]:\n",
    "        net.to(device)\n",
    "        net.apply(weight_reset)\n",
    "        if precision == 16:\n",
    "            net = net.half()\n",
    "        if precision == 64:\n",
    "            net = net.double()\n",
    "    net2.load_state_dict(net1.state_dict())\n",
    "\n",
    "    return net1, net2\n",
    "\n",
    "def compute_norms(net1, net2):\n",
    "    diff = 0\n",
    "    for p1, p2 in zip(net1.parameters(), net2.parameters()):\n",
    "        diff += torch.norm(p1.grad - p2.grad,1)\n",
    "    return diff.item()"
   ]
  },
  {
   "cell_type": "code",
   "execution_count": null,
   "metadata": {},
   "outputs": [],
   "source": [
    "def plot_histogram(data, precision, bitsString):\n",
    "    # Create bins\n",
    "    if precision == 16 :\n",
    "        exponents = np.arange(-8, 1 , 1)\n",
    "    if precision == 32 :\n",
    "        exponents = np.arange(-9, 0 , 1)\n",
    "    if precision == 64:\n",
    "        exponents = np.arange(-18, -13 , 1)\n",
    "\n",
    "    bins = 10.0**exponents\n",
    "    bins = np.append(bins, 0.0)  # Add a bin for zero\n",
    "    bins = np.sort(bins)\n",
    "    \n",
    "    # Calculate the histogram\n",
    "    hist, bin_edges = np.histogram(data, bins=bins)\n",
    "    hist = hist / np.sum(hist) * 100\n",
    "    \n",
    "    # Add the zero bin to the histogram\n",
    "    num_zeros = np.sum(data == 0)\n",
    "    zero_bin = num_zeros / len(data) * 100\n",
    "    hist = np.insert(hist, 0, zero_bin)  # Prepend the zero_bin to hist\n",
    "    \n",
    "    # Prepend zero to exponents\n",
    "    exponents = np.insert(exponents, 0, 0)\n",
    "    hist = np.delete(hist, 1)\n",
    "    exponents = np.delete(exponents, 1)\n",
    "    \n",
    "\n",
    "    fig, ax = plt.subplots(figsize=(8, 5))  # Increase figure size\n",
    "\n",
    "    # Set a custom color for the bars\n",
    "    bar_color = '#1f77b4'\n",
    "    error_color = 'r'  # set error bar color\n",
    "\n",
    "    # Original bar plot without errors\n",
    "    ax.bar(range(len(hist)), hist, tick_label=exponents, color=bar_color)\n",
    "\n",
    "    # Set labels and title\n",
    "    ax.set_xlabel(r'$\\log_{10}(magnitude)$', fontsize=18)\n",
    "    ax.set_ylabel('Proportion (%)', fontsize=18)\n",
    "\n",
    "    # Set y-axis scale to logarithmic\n",
    "    ax.set_yscale('log')\n",
    "\n",
    "    # Set the y-axis limits\n",
    "    ax.set_ylim(top=100)\n",
    "\n",
    "    # Add a grid\n",
    "    ax.grid(True, linestyle='--', alpha=0.6, linewidth=0.7)  # thinner lines\n",
    "\n",
    "    # Customize tick parameters\n",
    "    ax.tick_params(axis='x', labelsize=14)  # rotate and align x-labels, increase font size\n",
    "    ax.tick_params(axis='y', which='both', width=0.5, length=4, labelsize=14, pad=5)  # increase font size and padding\n",
    "\n",
    "    # Remove top and right spines\n",
    "    ax.spines['top'].set_visible(False)\n",
    "    ax.spines['right'].set_visible(False)\n",
    "\n",
    "    # Adjust the plot layout\n",
    "    plt.tight_layout()\n",
    "    if torch.backends.cudnn.deterministic == False :   \n",
    "        plt.savefig('figures/gpu_threshold_'+ bitsString + '.pdf', bbox_inches='tight')\n",
    "    else:   \n",
    "        plt.savefig('figures/deterministic_threshold_'+ bitsString + '.pdf', bbox_inches='tight')\n"
   ]
  },
  {
   "cell_type": "code",
   "execution_count": null,
   "metadata": {},
   "outputs": [],
   "source": [
    "def diffMaxpool(nb_experiments, network, dataset, precision, alpha, beta):\n",
    "    bitsString = \"32 bits\"\n",
    "    if precision == 64:\n",
    "        bitsString = \"64 bits\"\n",
    "        nb_experiments = 1\n",
    "        print('==> Double precision models..')\n",
    "    if precision == 16:\n",
    "        bitsString = \"16 bits\"\n",
    "        print('==> Half precision models..')\n",
    "        \n",
    "    if dataset == \"cifar10\":\n",
    "        trainloader, testloader = get_cifar10_loaders()\n",
    "    elif dataset == \"cifar100\":\n",
    "        trainloader, testloader = get_cifar100_loaders()\n",
    "    elif dataset == \"svhn\":\n",
    "        trainloader, testloader = get_svhn_loaders()\n",
    "    elif dataset == \"mnist\":\n",
    "        trainloader, testloader = get_mnist_loaders()\n",
    "    \n",
    "    df = pd.DataFrame(columns=[\"run_id\", \"network\", \"dataset\", \"precision\",  \"norm\"])\n",
    "           \n",
    "    for run_id in tqdm(range(nb_experiments), desc='run', leave=False):\n",
    "        (net1, net2) = build_models(network, precision, alpha, beta)\n",
    "        opt = optim.SGD([{'params': net1.parameters()}, {'params': net2.parameters()}], lr=0)\n",
    "        for i, (x, y) in enumerate(trainloader):\n",
    "            #free the gradients accumulated during the backward pass\n",
    "            opt.zero_grad()\n",
    "            x = x.to(device)\n",
    "            if precision == 16:\n",
    "                x = x.half()\n",
    "            if precision == 64:\n",
    "                x = x.double()\n",
    "            y = y.to(device)\n",
    "            y1, y2 = net1(x), net2(x)\n",
    "            loss1 = nn.CrossEntropyLoss()(y1, y)\n",
    "            loss2 = nn.CrossEntropyLoss()(y2, y)\n",
    "            loss1.backward()\n",
    "            loss2.backward()\n",
    "            norm = compute_norms(net1, net2)           \n",
    "            df = df.append({\n",
    "                    \"run_id\": i * (nb_experiments + 1),\n",
    "                    \"network\": network,\n",
    "                    \"dataset\": dataset,\n",
    "                    \"precision\": precision,\n",
    "                    \"norm\" : norm}, ignore_index=True)\n",
    "            \n",
    "    plot_histogram(np.array(df.norm), precision, bitsString)\n",
    "    \n",
    "    if precision == 16:\n",
    "        threshold  = df[df['norm']>0]['norm'].min()\n",
    "    else :\n",
    "        threshold = df['norm'].max()\n",
    "        \n",
    "    return threshold"
   ]
  },
  {
   "cell_type": "code",
   "execution_count": null,
   "metadata": {},
   "outputs": [],
   "source": [
    "nb_experiments = 100"
   ]
  },
  {
   "cell_type": "markdown",
   "metadata": {
    "tags": []
   },
   "source": [
    "### LeNet-5"
   ]
  },
  {
   "cell_type": "code",
   "execution_count": null,
   "metadata": {},
   "outputs": [],
   "source": [
    "diffMaxpool(nb_experiments, 'lenet','mnist', 16, 0, 1)"
   ]
  },
  {
   "cell_type": "code",
   "execution_count": null,
   "metadata": {},
   "outputs": [],
   "source": [
    "diffMaxpool(nb_experiments, 'lenet','mnist', 32, 0, 0)"
   ]
  },
  {
   "cell_type": "code",
   "execution_count": null,
   "metadata": {},
   "outputs": [],
   "source": [
    "diffMaxpool(nb_experiments, 'lenet','mnist', 64, 0, 1)"
   ]
  },
  {
   "cell_type": "markdown",
   "metadata": {
    "tags": []
   },
   "source": [
    "### VGG11"
   ]
  },
  {
   "cell_type": "code",
   "execution_count": null,
   "metadata": {},
   "outputs": [],
   "source": [
    "diffMaxpool(nb_experiments, 'vgg11','cifar10', 16, 0, 1)"
   ]
  },
  {
   "cell_type": "code",
   "execution_count": null,
   "metadata": {},
   "outputs": [],
   "source": [
    "diffMaxpool(nb_experiments, 'vgg11','cifar10', 32, 0, 1)"
   ]
  },
  {
   "cell_type": "code",
   "execution_count": null,
   "metadata": {},
   "outputs": [],
   "source": [
    "diffMaxpool(nb_experiments, 'vgg11','cifar10', 64, 0, 1)"
   ]
  },
  {
   "cell_type": "code",
   "execution_count": null,
   "metadata": {},
   "outputs": [],
   "source": [
    "diffMaxpool(1, 'vgg11','svhn', 16, 0, 1)"
   ]
  },
  {
   "cell_type": "code",
   "execution_count": null,
   "metadata": {},
   "outputs": [],
   "source": [
    "diffMaxpool(1, 'vgg11','svhn', 32, 0, 1)"
   ]
  },
  {
   "cell_type": "code",
   "execution_count": null,
   "metadata": {},
   "outputs": [],
   "source": [
    "diffMaxpool(1, 'vgg11','svhn', 64, 0, 1)"
   ]
  },
  {
   "cell_type": "markdown",
   "metadata": {
    "tags": []
   },
   "source": [
    "### VGG13"
   ]
  },
  {
   "cell_type": "code",
   "execution_count": null,
   "metadata": {},
   "outputs": [],
   "source": [
    "diffMaxpool(nb_experiments, 'vgg13','cifar10', 16, 0, 1)"
   ]
  },
  {
   "cell_type": "code",
   "execution_count": null,
   "metadata": {},
   "outputs": [],
   "source": [
    "diffMaxpool(nb_experiments, 'vgg13','cifar10', 32, 0, 1)"
   ]
  },
  {
   "cell_type": "code",
   "execution_count": null,
   "metadata": {},
   "outputs": [],
   "source": [
    "diffMaxpool(nb_experiments, 'vgg13','cifar10', 64, 0, 1)"
   ]
  },
  {
   "cell_type": "markdown",
   "metadata": {
    "tags": []
   },
   "source": [
    "### VGG16"
   ]
  },
  {
   "cell_type": "code",
   "execution_count": null,
   "metadata": {},
   "outputs": [],
   "source": [
    "diffMaxpool(nb_experiments, 'vgg16', 'cifar10', 16, 0, 1)"
   ]
  },
  {
   "cell_type": "code",
   "execution_count": null,
   "metadata": {},
   "outputs": [],
   "source": [
    "diffMaxpool(nb_experiments, 'vgg16', 'cifar10', 32, 0, 1)"
   ]
  },
  {
   "cell_type": "code",
   "execution_count": null,
   "metadata": {},
   "outputs": [],
   "source": [
    "diffMaxpool(nb_experiments, 'vgg16', 'cifar10', 64, 0, 1)"
   ]
  },
  {
   "cell_type": "markdown",
   "metadata": {
    "tags": []
   },
   "source": [
    "### VGG19"
   ]
  },
  {
   "cell_type": "code",
   "execution_count": null,
   "metadata": {},
   "outputs": [],
   "source": [
    "diffMaxpool(nb_experiments, 'vgg19', 'cifar10', 16, 0, 1)"
   ]
  },
  {
   "cell_type": "code",
   "execution_count": null,
   "metadata": {},
   "outputs": [],
   "source": [
    "diffMaxpool(nb_experiments, 'vgg19', 'cifar10', 32, 0, 1)"
   ]
  },
  {
   "cell_type": "code",
   "execution_count": null,
   "metadata": {},
   "outputs": [],
   "source": [
    "diffMaxpool(nb_experiments, 'vgg19', 'cifar10', 64, 0, 1)"
   ]
  },
  {
   "cell_type": "markdown",
   "metadata": {
    "tags": []
   },
   "source": [
    "### Resnet18"
   ]
  },
  {
   "cell_type": "code",
   "execution_count": null,
   "metadata": {},
   "outputs": [],
   "source": [
    "diffMaxpool(nb_experiments, 'resnet18','cifar10', 16, 0, 1)"
   ]
  },
  {
   "cell_type": "code",
   "execution_count": null,
   "metadata": {},
   "outputs": [],
   "source": [
    "diffMaxpool(nb_experiments, 'resnet18','cifar10', 32, 0, 1)"
   ]
  },
  {
   "cell_type": "code",
   "execution_count": null,
   "metadata": {},
   "outputs": [],
   "source": [
    "diffMaxpool(nb_experiments, 'resnet18','cifar10', 64, 0, 1)"
   ]
  },
  {
   "cell_type": "markdown",
   "metadata": {
    "tags": []
   },
   "source": [
    "### Densenet121"
   ]
  },
  {
   "cell_type": "code",
   "execution_count": null,
   "metadata": {},
   "outputs": [],
   "source": [
    "diffMaxpool(nb_experiments, 'densenet121','cifar100', 16, 0, 1)"
   ]
  },
  {
   "cell_type": "code",
   "execution_count": null,
   "metadata": {},
   "outputs": [],
   "source": [
    "diffMaxpool(20, 'densenet121','cifar100', 32, 0, 1)"
   ]
  },
  {
   "cell_type": "code",
   "execution_count": null,
   "metadata": {},
   "outputs": [],
   "source": [
    "diffMaxpool(nb_experiments, 'densenet121','cifar100', 64, 0, 1)"
   ]
  }
 ],
 "metadata": {
  "kernelspec": {
   "display_name": "Python 3",
   "language": "python",
   "name": "python3"
  },
  "language_info": {
   "codemirror_mode": {
    "name": "ipython",
    "version": 3
   },
   "file_extension": ".py",
   "mimetype": "text/x-python",
   "name": "python",
   "nbconvert_exporter": "python",
   "pygments_lexer": "ipython3",
   "version": "3.6.9"
  }
 },
 "nbformat": 4,
 "nbformat_minor": 4
}
