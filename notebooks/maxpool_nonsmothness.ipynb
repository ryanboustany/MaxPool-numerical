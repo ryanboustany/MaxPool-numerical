{
 "cells": [
  {
   "cell_type": "code",
   "execution_count": 1,
   "metadata": {},
   "outputs": [],
   "source": [
    "import sys\n",
    "import os\n",
    "sys.path.insert(0,'..')\n",
    "import numpy as np\n",
    "import torch\n",
    "import torch.nn as nn\n",
    "import torch.optim as optim\n",
    "import torch.backends.cudnn as cudnn\n",
    "import torch.nn.init as init\n",
    "from torchvision import datasets, transforms\n",
    "from tqdm.notebook import tqdm\n",
    "import matplotlib.pyplot as plt\n",
    "import pandas as pd\n",
    "import seaborn as sns\n",
    "from maxpool import *\n",
    "from relu import *\n",
    "from data_utils import *\n",
    "from models import *\n",
    "%matplotlib inline"
   ]
  },
  {
   "cell_type": "code",
   "execution_count": 2,
   "metadata": {},
   "outputs": [],
   "source": [
    "import torch\n",
    "import matplotlib.pyplot as plt\n",
    "\n",
    "def plot_max_values(kernel_size, stride, matrix):\n",
    "    # Retrieve the maximum value of each region\n",
    "    max_per_region = torch.nn.functional.max_pool2d(matrix, kernel_size=kernel_size, stride=stride).squeeze()\n",
    "\n",
    "    # Store the indices of the maximum values in each region\n",
    "    max_indices = []\n",
    "    region_size = kernel_size\n",
    "    for row in range(max_per_region.shape[0]):\n",
    "        for col in range(max_per_region.shape[1]):\n",
    "            max_val = max_per_region[row, col].item()\n",
    "            region_indices = ((row * region_size, col * region_size), ((row + 1) * region_size - 1, (col + 1) * region_size - 1))\n",
    "            max_region_indices = [(x, y) for x in range(region_indices[0][0], region_indices[1][0] + 1)\n",
    "                                  for y in range(region_indices[0][1], region_indices[1][1] + 1)\n",
    "                                  if matrix[0, 0, x, y].item() == max_val]\n",
    "            if len(max_region_indices) > 1:\n",
    "                max_indices.extend(max_region_indices)\n",
    "    \n",
    "    # Display the matrix with the points equal to the maximum in each region shown in red\n",
    "    fig, ax = plt.subplots(figsize=(8, 8))\n",
    "    im = ax.matshow(matrix[0, 0].detach().cpu().to(torch.float32))  # Adjust the colormap\n",
    "    for idx in max_indices:\n",
    "        ax.scatter(idx[1], idx[0], s=20, c='red', cmap='jet')  # Increase the scatter point size\n",
    "\n",
    "    # Add a color bar\n",
    "    plt.show()\n"
   ]
  },
  {
   "cell_type": "code",
   "execution_count": 3,
   "metadata": {},
   "outputs": [],
   "source": [
    "## Initialize random seed\n",
    "np.random.seed(42)\n",
    "torch.manual_seed(42)\n",
    "device = torch.device(\"cuda\" if torch.cuda.is_available() else \"cpu\")\n",
    "if torch.cuda.is_available():\n",
    "    cudnn.benchmark = False\n",
    "    # Deterministic convolutions\n",
    "    torch.backends.cudnn.deterministic = True"
   ]
  },
  {
   "cell_type": "code",
   "execution_count": 4,
   "metadata": {},
   "outputs": [],
   "source": [
    "batch_size = 1\n",
    "transform = transforms.Compose([\n",
    "        transforms.ToTensor()\n",
    "        ])\n",
    "traindata = datasets.MNIST(root=data_dir, train=True, download=False, transform=transform)\n",
    "trainloader = torch.utils.data.DataLoader(traindata, batch_size=batch_size)"
   ]
  },
  {
   "cell_type": "markdown",
   "metadata": {},
   "source": [
    "#### Illustration 32 bits"
   ]
  },
  {
   "cell_type": "code",
   "execution_count": 5,
   "metadata": {},
   "outputs": [
    {
     "data": {
      "image/png": "[encoded data removed]",
      "text/plain": [
       "<Figure size 576x576 with 1 Axes>"
      ]
     },
     "metadata": {
      "needs_background": "light"
     },
     "output_type": "display_data"
    }
   ],
   "source": [
    "dataiter = iter(trainloader)\n",
    "images, labels = next(dataiter)\n",
    "model = nn.Sequential(OrderedDict([\n",
    "            ('conv1', nn.Conv2d(1, 1, 5)),\n",
    "            ('relu1', nn.ReLU()),\n",
    "            ('maxpool1', nn.MaxPool2d(2, 2)),\n",
    "            ('flat', nn.Flatten()),\n",
    "            ('linear2', nn.Linear(12 * 12 * 1, 10))])).to(device)\n",
    "images = images.to(device)\n",
    "plot_max_values(2, 2, model.relu1(images))"
   ]
  }
 ],
 "metadata": {
  "kernelspec": {
   "display_name": "Python 3",
   "language": "python",
   "name": "python3"
  },
  "language_info": {
   "codemirror_mode": {
    "name": "ipython",
    "version": 3
   },
   "file_extension": ".py",
   "mimetype": "text/x-python",
   "name": "python",
   "nbconvert_exporter": "python",
   "pygments_lexer": "ipython3",
   "version": "3.11.4"
  }
 },
 "nbformat": 4,
 "nbformat_minor": 4
}
