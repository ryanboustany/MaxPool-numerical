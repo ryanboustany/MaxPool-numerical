{
 "cells": [
  {
   "cell_type": "markdown",
   "metadata": {
    "tags": []
   },
   "source": [
    "### Import librairies"
   ]
  },
  {
   "cell_type": "code",
   "execution_count": 1,
   "metadata": {},
   "outputs": [],
   "source": [
    "import sys\n",
    "import os\n",
    "sys.path.insert(0,'..')"
   ]
  },
  {
   "cell_type": "code",
   "execution_count": 28,
   "metadata": {},
   "outputs": [],
   "source": [
    "import numpy as np\n",
    "import pandas as pd\n",
    "import numpy.random as npr\n",
    "import torch\n",
    "import torch.nn as nn\n",
    "from data_utils import *\n",
    "from relu import *\n",
    "from maxpool import *\n",
    "from normpool import *\n",
    "from models import *\n",
    "from data_utils import *\n",
    "import torch.optim as optim\n",
    "import torch.nn.init as init\n",
    "import torchvision\n",
    "from torchvision import datasets, transforms\n",
    "import torch.backends.cudnn as cudnn\n",
    "from tqdm import tqdm\n",
    "import matplotlib.pyplot as plt\n",
    "from matplotlib.ticker import AutoMinorLocator\n",
    "from tqdm.notebook import tqdm\n",
    "%matplotlib inline"
   ]
  },
  {
   "cell_type": "code",
   "execution_count": 29,
   "metadata": {},
   "outputs": [],
   "source": [
    "seed = 0\n",
    "torch.manual_seed(seed)\n",
    "torch.cuda.manual_seed(seed)\n",
    "torch.cuda.manual_seed_all(seed)\n",
    "#torch.use_deterministic_algorithms(True)\n",
    "#os.environ[\"CUBLAS_WORKSPACE_CONFIG\"]=\":4096:8\"\n",
    "device = torch.device(\"cuda:2\" if torch.cuda.is_available() else \"cpu\")\n",
    "if torch.cuda.is_available():\n",
    "    cudnn.benchmark = False\n",
    "    # Deterministic convolutions\n",
    "    torch.backends.cudnn.deterministic = True"
   ]
  },
  {
   "cell_type": "markdown",
   "metadata": {
    "tags": []
   },
   "source": [
    "### Builds models "
   ]
  },
  {
   "cell_type": "code",
   "execution_count": 30,
   "metadata": {},
   "outputs": [],
   "source": [
    "normpool_native = lambda:NormPool1(2,2)\n",
    "normpool_custom = lambda:NormPool2(2,2)\n",
    "\n",
    "def init_weights(model):\n",
    "    for m in model.modules():\n",
    "        if isinstance(m, nn.Conv2d):\n",
    "            init.kaiming_uniform_(m.weight, mode='fan_in')\n",
    "            if m.bias is not None:\n",
    "                nn.init.constant_(m.bias, 0)\n",
    "        elif isinstance(m, nn.BatchNorm2d):\n",
    "            nn.init.constant_(m.weight, 1)\n",
    "            nn.init.constant_(m.bias, 0)\n",
    "        elif isinstance(m, nn.Linear):\n",
    "            init.normal_(m.weight, 0, 0.01)\n",
    "            if m.bias is not None:\n",
    "                nn.init.constant_(m.bias, 0)\n",
    "\n",
    "def weight_reset(m):\n",
    "    if isinstance(m, nn.Conv2d) or isinstance(m, nn.Linear):\n",
    "        m.reset_parameters()\n",
    "        \n",
    "def build_models(network, precision):\n",
    "    if network == \"vgg11\":\n",
    "        net1 = VGG(\"VGG11\", maxpool_fn=normpool_native)\n",
    "        net2 = VGG(\"VGG11\", maxpool_fn=normpool_custom)\n",
    "    elif network == \"resnet18\":\n",
    "        net1 = resnet18(norm_layer=nn.Identity, maxpool_fn=normpool_native)\n",
    "        net2 = resnet18(norm_layer=nn.Identity, maxpool_fn=normpool_custom)\n",
    "    elif network == \"densenet121\":\n",
    "        net1 = densenet121(norm_layer=nn.Identity,maxpool_fn=normpool_native, num_classes=10)\n",
    "        net2 = densenet121(norm_layer=nn.Identity, maxpool_fn=normpool_custom, num_classes=10)\n",
    "    elif network == \"lenet\":\n",
    "        net1 = LeNet5(maxpool_fn=normpool_native)\n",
    "        net2 = LeNet5(maxpool_fn=normpool_custom)\n",
    "    else:\n",
    "        raise ValueError(\"Invalid network name.\")\n",
    "\n",
    "    for net in [net1, net2]:\n",
    "        net.to(device)\n",
    "        net.apply(init_weights)\n",
    "        if precision == 16:\n",
    "            net = net.half()\n",
    "        if precision == 64:\n",
    "            net = net.double()\n",
    "    net2.load_state_dict(net1.state_dict())\n",
    "\n",
    "    return net1, net2\n",
    "\n",
    "def compute_norms(net1, net2):\n",
    "    diff = 0\n",
    "    for p1, p2 in zip(net1.parameters(), net2.parameters()):\n",
    "        diff += torch.norm(p1.grad - p2.grad,1)\n",
    "    return diff.item()"
   ]
  },
  {
   "cell_type": "code",
   "execution_count": 31,
   "metadata": {},
   "outputs": [],
   "source": [
    "def plot_histogram(data, precision, bitsString):\n",
    "    # Create bins\n",
    "    if precision == 16 :\n",
    "        exponents = np.arange(-8, 2 , 1)\n",
    "    if precision == 32 :\n",
    "        exponents = np.arange(-9, 2 , 1)\n",
    "    if precision == 64:\n",
    "        exponents = np.arange(-18, -13 , 1)\n",
    "\n",
    "    bins = 10.0**exponents\n",
    "    bins = np.append(bins, 0.0)  # Add a bin for zero\n",
    "    bins = np.sort(bins)\n",
    "    \n",
    "    # Calculate the histogram\n",
    "    hist, bin_edges = np.histogram(data, bins=bins)\n",
    "    hist = hist / np.sum(hist) * 100\n",
    "    \n",
    "    # Add the zero bin to the histogram\n",
    "    num_zeros = np.sum(data == 0)\n",
    "    zero_bin = num_zeros / len(data) * 100\n",
    "    hist = np.insert(hist, 0, zero_bin)  # Prepend the zero_bin to hist\n",
    "    \n",
    "    # Prepend zero to exponents\n",
    "    exponents = np.insert(exponents, 0, 0)\n",
    "    hist = np.delete(hist, 1)\n",
    "    exponents = np.delete(exponents, 1)\n",
    "    \n",
    "\n",
    "    fig, ax = plt.subplots(figsize=(8, 5))  # Increase figure size\n",
    "\n",
    "    # Set a custom color for the bars\n",
    "    bar_color = '#1f77b4'\n",
    "    error_color = 'r'  # set error bar color\n",
    "\n",
    "    # Original bar plot without errors\n",
    "    ax.bar(range(len(hist)), hist, tick_label=exponents, color=bar_color)\n",
    "\n",
    "    # Set labels and title\n",
    "    ax.set_xlabel(r'$\\log_{10}(magnitude)$', fontsize=18)\n",
    "    ax.set_ylabel('Proportion (%)', fontsize=18)\n",
    "\n",
    "    # Set y-axis scale to logarithmic\n",
    "    ax.set_yscale('log')\n",
    "\n",
    "    # Set the y-axis limits\n",
    "    ax.set_ylim(top=100)\n",
    "\n",
    "    # Add a grid\n",
    "    ax.grid(True, linestyle='--', alpha=0.6, linewidth=0.7)  # thinner lines\n",
    "\n",
    "    # Customize tick parameters\n",
    "    ax.tick_params(axis='x', labelsize=14)  # rotate and align x-labels, increase font size\n",
    "    ax.tick_params(axis='y', which='both', width=0.5, length=4, labelsize=14, pad=5)  # increase font size and padding\n",
    "\n",
    "    # Remove top and right spines\n",
    "    ax.spines['top'].set_visible(False)\n",
    "    ax.spines['right'].set_visible(False)\n",
    "\n",
    "    # Adjust the plot layout\n",
    "    plt.tight_layout()\n",
    "    if torch.backends.cudnn.deterministic == False :   \n",
    "        plt.savefig('figures/normpool_'+ bitsString + '.pdf', bbox_inches='tight')\n",
    "    else:   \n",
    "        plt.savefig('figures/normpool_'+ bitsString + '.pdf', bbox_inches='tight')\n"
   ]
  },
  {
   "cell_type": "code",
   "execution_count": 32,
   "metadata": {},
   "outputs": [],
   "source": [
    "def diffMaxpool(nb_experiments, network, dataset, precision):\n",
    "    bitsString = \"32 bits\"\n",
    "    if precision == 64:\n",
    "        bitsString = \"64 bits\"\n",
    "        nb_experiments = 1\n",
    "        print('==> Double precision models..')\n",
    "    if precision == 16:\n",
    "        bitsString = \"16 bits\"\n",
    "        print('==> Half precision models..')\n",
    "        \n",
    "    if dataset == \"cifar10\":\n",
    "        trainloader, testloader = get_cifar10_loaders()\n",
    "    elif dataset == \"cifar100\":\n",
    "        trainloader, testloader = get_cifar100_loaders()\n",
    "    elif dataset == \"svhn\":\n",
    "        trainloader, testloader = get_svhn_loaders()\n",
    "    elif dataset == \"mnist\":\n",
    "        trainloader, testloader = get_mnist_loaders()\n",
    "    \n",
    "    df = pd.DataFrame(columns=[\"run_id\", \"network\", \"dataset\", \"precision\",  \"norm\"])\n",
    "           \n",
    "    for run_id in tqdm(range(nb_experiments), desc='run', leave=False):\n",
    "        (net1, net2) = build_models(network, precision)\n",
    "        opt = optim.SGD([{'params': net1.parameters()}, {'params': net2.parameters()}], lr=0)\n",
    "        for i, (x, y) in enumerate(trainloader):\n",
    "            #free the gradients accumulated during the backward pass\n",
    "            opt.zero_grad()\n",
    "            x = x.to(device)\n",
    "            if precision == 16:\n",
    "                x = x.half()\n",
    "            if precision == 64:\n",
    "                x = x.double()\n",
    "            y = y.to(device)\n",
    "            y1, y2 = net1(x), net2(x)\n",
    "            loss1 = nn.CrossEntropyLoss()(y1, y)\n",
    "            loss2 = nn.CrossEntropyLoss()(y2, y)\n",
    "            loss1.backward()\n",
    "            loss2.backward()\n",
    "            norm = compute_norms(net1, net2)           \n",
    "            df = df.append({\n",
    "                    \"run_id\": i * (nb_experiments + 1),\n",
    "                    \"network\": network,\n",
    "                    \"dataset\": dataset,\n",
    "                    \"precision\": precision,\n",
    "                    \"norm\" : norm}, ignore_index=True)\n",
    "            \n",
    "    plot_histogram(np.array(df.norm), precision, bitsString)\n",
    "    \n",
    "    if precision == 16:\n",
    "        threshold  = df[df['norm']>0]['norm'].min()\n",
    "    else :\n",
    "        threshold = df['norm'].max()\n",
    "        \n",
    "    return threshold"
   ]
  },
  {
   "cell_type": "code",
   "execution_count": 33,
   "metadata": {},
   "outputs": [],
   "source": [
    "nb_experiments = 100"
   ]
  },
  {
   "cell_type": "markdown",
   "metadata": {
    "tags": []
   },
   "source": [
    "### LeNet-5"
   ]
  },
  {
   "cell_type": "code",
   "execution_count": 34,
   "metadata": {},
   "outputs": [
    {
     "name": "stdout",
     "output_type": "stream",
     "text": [
      "==> Half precision models..\n"
     ]
    },
    {
     "data": {
      "application/vnd.jupyter.widget-view+json": {
       "model_id": "",
       "version_major": 2,
       "version_minor": 0
      },
      "text/plain": [
       "run:   0%|          | 0/100 [00:00<?, ?it/s]"
      ]
     },
     "metadata": {},
     "output_type": "display_data"
    },
    {
     "data": {
      "text/plain": [
       "1.1920928955078125e-07"
      ]
     },
     "execution_count": 34,
     "metadata": {},
     "output_type": "execute_result"
    },
    {
     "data": {
      "image/png": "[encoded data removed]",
      "text/plain": [
       "<Figure size 576x360 with 1 Axes>"
      ]
     },
     "metadata": {
      "needs_background": "light"
     },
     "output_type": "display_data"
    }
   ],
   "source": [
    "diffMaxpool(100, 'lenet','mnist', 16)"
   ]
  }
 ],
 "metadata": {
  "kernelspec": {
   "display_name": "Python 3",
   "language": "python",
   "name": "python3"
  },
  "language_info": {
   "codemirror_mode": {
    "name": "ipython",
    "version": 3
   },
   "file_extension": ".py",
   "mimetype": "text/x-python",
   "name": "python",
   "nbconvert_exporter": "python",
   "pygments_lexer": "ipython3",
   "version": "3.6.9"
  }
 },
 "nbformat": 4,
 "nbformat_minor": 4
}
