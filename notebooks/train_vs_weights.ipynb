{
 "cells": [
  {
   "cell_type": "code",
   "execution_count": 1,
   "metadata": {},
   "outputs": [],
   "source": [
    "import sys\n",
    "import os\n",
    "sys.path.insert(0,'..')"
   ]
  },
  {
   "cell_type": "code",
   "execution_count": 2,
   "metadata": {},
   "outputs": [],
   "source": [
    "import numpy as np\n",
    "import pandas as pd\n",
    "import numpy.random as npr\n",
    "import torch\n",
    "import torch.nn as nn\n",
    "from data_utils import *\n",
    "from relu import *\n",
    "from maxpool import *\n",
    "from models import *\n",
    "from data_utils import *\n",
    "import torch.optim as optim\n",
    "import torch.nn.init as init\n",
    "import torchvision\n",
    "from torchvision import datasets, transforms\n",
    "import torch.backends.cudnn as cudnn\n",
    "from tqdm import tqdm\n",
    "import matplotlib.pyplot as plt\n",
    "from tqdm.notebook import tqdm\n",
    "%matplotlib inline"
   ]
  },
  {
   "cell_type": "code",
   "execution_count": 3,
   "metadata": {},
   "outputs": [
    {
     "name": "stdout",
     "output_type": "stream",
     "text": [
      "Files already downloaded and verified\n",
      "Files already downloaded and verified\n"
     ]
    }
   ],
   "source": [
    "deterministic = False\n",
    "precision = 32\n",
    "train_loader, test_loader = get_cifar10_loaders()"
   ]
  },
  {
   "cell_type": "code",
   "execution_count": 4,
   "metadata": {},
   "outputs": [],
   "source": [
    "device = torch.device(\"cuda:2\" if torch.cuda.is_available() else \"cpu\")\n",
    "if torch.cuda.is_available():\n",
    "    cudnn.benchmark = False\n",
    "    # Deterministic convolutions\n",
    "    if deterministic:\n",
    "        torch.backends.cudnn.deterministic = True\n",
    "    else : \n",
    "        torch.backends.cudnn.deterministic = False"
   ]
  },
  {
   "cell_type": "code",
   "execution_count": 5,
   "metadata": {},
   "outputs": [],
   "source": [
    "def init_weights(model):\n",
    "    for m in model.modules():\n",
    "        if isinstance(m, nn.Conv2d):\n",
    "            init.kaiming_uniform_(m.weight, mode='fan_in', nonlinearity='relu')\n",
    "            #init.xavier_uniform_(m.weight)\n",
    "            if m.bias is not None:\n",
    "                nn.init.constant_(m.bias, 0)\n",
    "        elif isinstance(m, nn.BatchNorm2d):\n",
    "            nn.init.constant_(m.weight, 1)\n",
    "            nn.init.constant_(m.bias, 0)\n",
    "        elif isinstance(m, nn.Linear):\n",
    "            init.normal_(m.weight, 0, 0.01)\n",
    "            if m.bias is not None:\n",
    "                nn.init.constant_(m.bias, 0)\n",
    "            \n",
    "def build_models():\n",
    "    net1 = VGG('VGG11',maxpool_fn= lambda: MaxPool2DBeta(0), relu_fn= lambda: ReLUAlpha(0))\n",
    "    net2 = VGG('VGG11',maxpool_fn= lambda: MaxPool2DBeta(1), relu_fn= lambda: ReLUAlpha(0))\n",
    "    net3 = VGG('VGG11',maxpool_fn= lambda: MaxPool2DBeta(10), relu_fn= lambda: ReLUAlpha(0))\n",
    "    net4 = VGG('VGG11',maxpool_fn= lambda: MaxPool2DBeta(100), relu_fn= lambda: ReLUAlpha(0))\n",
    "    net5 = VGG('VGG11',maxpool_fn= lambda: MaxPool2DBeta(1000), relu_fn= lambda: ReLUAlpha(0))\n",
    "    net6 = VGG('VGG11',maxpool_fn= lambda: MaxPool2DBeta(10000), relu_fn= lambda: ReLUAlpha(0))\n",
    "    net7 = VGG('VGG11',maxpool_fn= lambda: MaxPool2DBeta(0), relu_fn= lambda: ReLUAlpha(0))\n",
    "    \n",
    "    init_weights(net1)\n",
    "    net2.load_state_dict(net1.state_dict())\n",
    "    net3.load_state_dict(net1.state_dict())\n",
    "    net4.load_state_dict(net1.state_dict())\n",
    "    net5.load_state_dict(net1.state_dict())\n",
    "    net6.load_state_dict(net1.state_dict())\n",
    "    net7.load_state_dict(net1.state_dict())\n",
    "    for net in [net1, net2, net3, net4, net5, net6, net7]:\n",
    "        net.to(device)\n",
    "        if precision == 16:\n",
    "            net.half()\n",
    "        if precision == 64:\n",
    "            net.double()\n",
    "\n",
    "    return net1, net2, net3, net4, net5, net6, net7\n",
    "\n",
    "def compute_norms(model1, model2):\n",
    "    diff_L1 = 0\n",
    "    for p1, p2 in zip(model1.parameters(), model2.parameters()):\n",
    "        grad1 = p1\n",
    "        grad2 = p2 \n",
    "        grad_diff = grad1 - grad2\n",
    "        \n",
    "        diff_L1 += torch.norm(grad_diff,1).sum()\n",
    "        \n",
    "    return diff_L1.item()"
   ]
  },
  {
   "cell_type": "code",
   "execution_count": 6,
   "metadata": {},
   "outputs": [],
   "source": [
    "net1, net2, net3, net4, net5, net6, net7 = build_models()\n",
    "nets = [net1, net2, net3, net4, net5, net6, net7]\n",
    "\n",
    "optimizers = []\n",
    "lr = 0.01 * (npr.random(1)[0]/5.0+1) \n",
    "for net in nets:\n",
    "    optimizers.append(torch.optim.SGD(net.parameters(), lr=lr))\n",
    "    \n",
    "criterion = nn.CrossEntropyLoss()"
   ]
  },
  {
   "cell_type": "code",
   "execution_count": 7,
   "metadata": {},
   "outputs": [],
   "source": [
    "def compute_accuracy(net):\n",
    "    with torch.no_grad():\n",
    "        total = 0\n",
    "        correct = 0\n",
    "        for data in test_loader:\n",
    "            x, y = data\n",
    "            x = x.to(device)\n",
    "            output = net(x)\n",
    "            for idx, i in enumerate(output):\n",
    "                if torch.argmax(i) == y[idx]:\n",
    "                    correct +=1\n",
    "                total += 1\n",
    "\n",
    "    return round(correct/total, 9) "
   ]
  },
  {
   "cell_type": "code",
   "execution_count": null,
   "metadata": {},
   "outputs": [
    {
     "data": {
      "application/vnd.jupyter.widget-view+json": {
       "model_id": "a78c06e60eec47ed85f4cead67f80c78",
       "version_major": 2,
       "version_minor": 0
      },
      "text/plain": [
       "epoch:   0%|          | 0/200 [00:00<?, ?it/s]"
      ]
     },
     "metadata": {},
     "output_type": "display_data"
    },
    {
     "data": {
      "application/vnd.jupyter.widget-view+json": {
       "model_id": "",
       "version_major": 2,
       "version_minor": 0
      },
      "text/plain": [
       "batch_loop:   0%|          | 0/391 [00:00<?, ?it/s]"
      ]
     },
     "metadata": {},
     "output_type": "display_data"
    },
    {
     "data": {
      "application/vnd.jupyter.widget-view+json": {
       "model_id": "",
       "version_major": 2,
       "version_minor": 0
      },
      "text/plain": [
       "batch_loop:   0%|          | 0/391 [00:00<?, ?it/s]"
      ]
     },
     "metadata": {},
     "output_type": "display_data"
    },
    {
     "data": {
      "application/vnd.jupyter.widget-view+json": {
       "model_id": "",
       "version_major": 2,
       "version_minor": 0
      },
      "text/plain": [
       "batch_loop:   0%|          | 0/391 [00:00<?, ?it/s]"
      ]
     },
     "metadata": {},
     "output_type": "display_data"
    },
    {
     "data": {
      "application/vnd.jupyter.widget-view+json": {
       "model_id": "",
       "version_major": 2,
       "version_minor": 0
      },
      "text/plain": [
       "batch_loop:   0%|          | 0/391 [00:00<?, ?it/s]"
      ]
     },
     "metadata": {},
     "output_type": "display_data"
    },
    {
     "data": {
      "application/vnd.jupyter.widget-view+json": {
       "model_id": "",
       "version_major": 2,
       "version_minor": 0
      },
      "text/plain": [
       "batch_loop:   0%|          | 0/391 [00:00<?, ?it/s]"
      ]
     },
     "metadata": {},
     "output_type": "display_data"
    },
    {
     "data": {
      "application/vnd.jupyter.widget-view+json": {
       "model_id": "",
       "version_major": 2,
       "version_minor": 0
      },
      "text/plain": [
       "batch_loop:   0%|          | 0/391 [00:00<?, ?it/s]"
      ]
     },
     "metadata": {},
     "output_type": "display_data"
    },
    {
     "data": {
      "application/vnd.jupyter.widget-view+json": {
       "model_id": "",
       "version_major": 2,
       "version_minor": 0
      },
      "text/plain": [
       "batch_loop:   0%|          | 0/391 [00:00<?, ?it/s]"
      ]
     },
     "metadata": {},
     "output_type": "display_data"
    },
    {
     "data": {
      "application/vnd.jupyter.widget-view+json": {
       "model_id": "",
       "version_major": 2,
       "version_minor": 0
      },
      "text/plain": [
       "batch_loop:   0%|          | 0/391 [00:00<?, ?it/s]"
      ]
     },
     "metadata": {},
     "output_type": "display_data"
    },
    {
     "data": {
      "application/vnd.jupyter.widget-view+json": {
       "model_id": "",
       "version_major": 2,
       "version_minor": 0
      },
      "text/plain": [
       "batch_loop:   0%|          | 0/391 [00:00<?, ?it/s]"
      ]
     },
     "metadata": {},
     "output_type": "display_data"
    },
    {
     "data": {
      "application/vnd.jupyter.widget-view+json": {
       "model_id": "",
       "version_major": 2,
       "version_minor": 0
      },
      "text/plain": [
       "batch_loop:   0%|          | 0/391 [00:00<?, ?it/s]"
      ]
     },
     "metadata": {},
     "output_type": "display_data"
    },
    {
     "data": {
      "application/vnd.jupyter.widget-view+json": {
       "model_id": "",
       "version_major": 2,
       "version_minor": 0
      },
      "text/plain": [
       "batch_loop:   0%|          | 0/391 [00:00<?, ?it/s]"
      ]
     },
     "metadata": {},
     "output_type": "display_data"
    },
    {
     "data": {
      "application/vnd.jupyter.widget-view+json": {
       "model_id": "",
       "version_major": 2,
       "version_minor": 0
      },
      "text/plain": [
       "batch_loop:   0%|          | 0/391 [00:00<?, ?it/s]"
      ]
     },
     "metadata": {},
     "output_type": "display_data"
    },
    {
     "data": {
      "application/vnd.jupyter.widget-view+json": {
       "model_id": "",
       "version_major": 2,
       "version_minor": 0
      },
      "text/plain": [
       "batch_loop:   0%|          | 0/391 [00:00<?, ?it/s]"
      ]
     },
     "metadata": {},
     "output_type": "display_data"
    },
    {
     "data": {
      "application/vnd.jupyter.widget-view+json": {
       "model_id": "",
       "version_major": 2,
       "version_minor": 0
      },
      "text/plain": [
       "batch_loop:   0%|          | 0/391 [00:00<?, ?it/s]"
      ]
     },
     "metadata": {},
     "output_type": "display_data"
    },
    {
     "data": {
      "application/vnd.jupyter.widget-view+json": {
       "model_id": "",
       "version_major": 2,
       "version_minor": 0
      },
      "text/plain": [
       "batch_loop:   0%|          | 0/391 [00:00<?, ?it/s]"
      ]
     },
     "metadata": {},
     "output_type": "display_data"
    },
    {
     "data": {
      "application/vnd.jupyter.widget-view+json": {
       "model_id": "",
       "version_major": 2,
       "version_minor": 0
      },
      "text/plain": [
       "batch_loop:   0%|          | 0/391 [00:00<?, ?it/s]"
      ]
     },
     "metadata": {},
     "output_type": "display_data"
    },
    {
     "data": {
      "application/vnd.jupyter.widget-view+json": {
       "model_id": "",
       "version_major": 2,
       "version_minor": 0
      },
      "text/plain": [
       "batch_loop:   0%|          | 0/391 [00:00<?, ?it/s]"
      ]
     },
     "metadata": {},
     "output_type": "display_data"
    },
    {
     "data": {
      "application/vnd.jupyter.widget-view+json": {
       "model_id": "",
       "version_major": 2,
       "version_minor": 0
      },
      "text/plain": [
       "batch_loop:   0%|          | 0/391 [00:00<?, ?it/s]"
      ]
     },
     "metadata": {},
     "output_type": "display_data"
    },
    {
     "data": {
      "application/vnd.jupyter.widget-view+json": {
       "model_id": "",
       "version_major": 2,
       "version_minor": 0
      },
      "text/plain": [
       "batch_loop:   0%|          | 0/391 [00:00<?, ?it/s]"
      ]
     },
     "metadata": {},
     "output_type": "display_data"
    },
    {
     "data": {
      "application/vnd.jupyter.widget-view+json": {
       "model_id": "",
       "version_major": 2,
       "version_minor": 0
      },
      "text/plain": [
       "batch_loop:   0%|          | 0/391 [00:00<?, ?it/s]"
      ]
     },
     "metadata": {},
     "output_type": "display_data"
    },
    {
     "data": {
      "application/vnd.jupyter.widget-view+json": {
       "model_id": "",
       "version_major": 2,
       "version_minor": 0
      },
      "text/plain": [
       "batch_loop:   0%|          | 0/391 [00:00<?, ?it/s]"
      ]
     },
     "metadata": {},
     "output_type": "display_data"
    },
    {
     "data": {
      "application/vnd.jupyter.widget-view+json": {
       "model_id": "",
       "version_major": 2,
       "version_minor": 0
      },
      "text/plain": [
       "batch_loop:   0%|          | 0/391 [00:00<?, ?it/s]"
      ]
     },
     "metadata": {},
     "output_type": "display_data"
    },
    {
     "data": {
      "application/vnd.jupyter.widget-view+json": {
       "model_id": "",
       "version_major": 2,
       "version_minor": 0
      },
      "text/plain": [
       "batch_loop:   0%|          | 0/391 [00:00<?, ?it/s]"
      ]
     },
     "metadata": {},
     "output_type": "display_data"
    },
    {
     "data": {
      "application/vnd.jupyter.widget-view+json": {
       "model_id": "",
       "version_major": 2,
       "version_minor": 0
      },
      "text/plain": [
       "batch_loop:   0%|          | 0/391 [00:00<?, ?it/s]"
      ]
     },
     "metadata": {},
     "output_type": "display_data"
    },
    {
     "data": {
      "application/vnd.jupyter.widget-view+json": {
       "model_id": "",
       "version_major": 2,
       "version_minor": 0
      },
      "text/plain": [
       "batch_loop:   0%|          | 0/391 [00:00<?, ?it/s]"
      ]
     },
     "metadata": {},
     "output_type": "display_data"
    },
    {
     "data": {
      "application/vnd.jupyter.widget-view+json": {
       "model_id": "",
       "version_major": 2,
       "version_minor": 0
      },
      "text/plain": [
       "batch_loop:   0%|          | 0/391 [00:00<?, ?it/s]"
      ]
     },
     "metadata": {},
     "output_type": "display_data"
    },
    {
     "data": {
      "application/vnd.jupyter.widget-view+json": {
       "model_id": "",
       "version_major": 2,
       "version_minor": 0
      },
      "text/plain": [
       "batch_loop:   0%|          | 0/391 [00:00<?, ?it/s]"
      ]
     },
     "metadata": {},
     "output_type": "display_data"
    },
    {
     "data": {
      "application/vnd.jupyter.widget-view+json": {
       "model_id": "",
       "version_major": 2,
       "version_minor": 0
      },
      "text/plain": [
       "batch_loop:   0%|          | 0/391 [00:00<?, ?it/s]"
      ]
     },
     "metadata": {},
     "output_type": "display_data"
    },
    {
     "data": {
      "application/vnd.jupyter.widget-view+json": {
       "model_id": "",
       "version_major": 2,
       "version_minor": 0
      },
      "text/plain": [
       "batch_loop:   0%|          | 0/391 [00:00<?, ?it/s]"
      ]
     },
     "metadata": {},
     "output_type": "display_data"
    },
    {
     "data": {
      "application/vnd.jupyter.widget-view+json": {
       "model_id": "40d9c7742bd14da9af399795a1eb0b46",
       "version_major": 2,
       "version_minor": 0
      },
      "text/plain": [
       "batch_loop:   0%|          | 0/391 [00:00<?, ?it/s]"
      ]
     },
     "metadata": {},
     "output_type": "display_data"
    }
   ],
   "source": [
    "n_epochs = 200\n",
    "for net in nets:\n",
    "    net.train()\n",
    "\n",
    "## Difference between weights\n",
    "difference12 = []\n",
    "difference13 = []\n",
    "difference14 = []\n",
    "difference15 = []\n",
    "difference16 = []\n",
    "difference17 = []\n",
    "\n",
    "accuracy1 = []\n",
    "accuracy2 = []\n",
    "accuracy3 = []\n",
    "accuracy4 = []\n",
    "accuracy5 = []\n",
    "accuracy6 = []\n",
    "\n",
    "bar = tqdm(range(n_epochs), desc='epoch', leave=False)\n",
    "for epoch in bar:\n",
    "    t = tqdm(iter(train_loader), desc=\"batch_loop\", leave=False)\n",
    "    difference12.append(compute_norms(net1,net2))\n",
    "    difference13.append(compute_norms(net1,net3))\n",
    "    difference14.append(compute_norms(net1,net4))\n",
    "    difference15.append(compute_norms(net1,net5)) \n",
    "    difference16.append(compute_norms(net1,net6)) \n",
    "    difference17.append(compute_norms(net1,net7)) \n",
    "    accuracy1.append(compute_accuracy(net1))\n",
    "    accuracy2.append(compute_accuracy(net2))\n",
    "    accuracy3.append(compute_accuracy(net3))\n",
    "    accuracy4.append(compute_accuracy(net4))\n",
    "    accuracy5.append(compute_accuracy(net5))\n",
    "    accuracy6.append(compute_accuracy(net6))\n",
    "    for inputs, targets in t:\n",
    "        for i in range(len(nets)):\n",
    "            inputs = inputs.to(device)\n",
    "            if precision == 16:\n",
    "                inputs = inputs.half()\n",
    "            if precision == 64:\n",
    "                inputs = inputs.double()\n",
    "            targets = targets.to(device)\n",
    "            outputs = nets[i](inputs)\n",
    "            loss = criterion(outputs, targets)\n",
    "            optimizers[i].zero_grad()\n",
    "            loss.backward()\n",
    "                \n",
    "        ## Perform an optimization step for each network\n",
    "        for i in range(len(nets)):\n",
    "            optimizers[i].step()\n",
    "    "
   ]
  },
  {
   "cell_type": "code",
   "execution_count": null,
   "metadata": {},
   "outputs": [],
   "source": [
    "plt.figure(num=None, figsize=(6, 4), dpi=80, facecolor='w', edgecolor='k')\n",
    "plt.plot(accuracy1[0:], label = r'$\\beta=0$')\n",
    "plt.plot(accuracy2[0:], label = r'$\\beta=1$')\n",
    "plt.plot(accuracy3[0:], label = r'$\\beta=10$')\n",
    "plt.plot(accuracy4[0:], label = r'$\\beta=10^2$')\n",
    "plt.plot(accuracy5[0:], label = r'$\\beta=10^3$')\n",
    "plt.plot(accuracy6[0:], label = r'$\\beta=10^4$')\n",
    "\n",
    "plt.xlabel(\"Epoch\")\n",
    "plt.ylabel(\"Test accuracy\")\n",
    "plt.ylim(0,0.9)\n",
    "plt.legend()\n",
    "\n",
    "plt.savefig('figures/accuracy_32bits.pdf', bbox_inches='tight')"
   ]
  },
  {
   "cell_type": "code",
   "execution_count": null,
   "metadata": {},
   "outputs": [],
   "source": [
    "plt.figure(num=None, figsize=(6, 4), dpi=80, facecolor='w', edgecolor='k')\n",
    "plt.plot(difference17[0:], label =  r'0 vs 0')\n",
    "plt.plot(difference12[0:], label = r'0 vs 1')\n",
    "plt.plot(difference13[0:], label = r'0 vs 10')\n",
    "plt.plot(difference14[0:], label = r'0 vs $10^2$')\n",
    "plt.plot(difference15[0:], label = r'0 vs $10^3$')\n",
    "plt.plot(difference16[0:], label = r'0 vs $10^4$')\n",
    "\n",
    "plt.xlabel(\"Epoch\")\n",
    "plt.ylabel(\"Weight difference \")\n",
    "plt.yscale('symlog')\n",
    "#plt.xlim(0,n_epochs-1)\n",
    "plt.legend()\n",
    "\n",
    "plt.savefig('figures/diff_32bits.pdf', bbox_inches='tight')"
   ]
  }
 ],
 "metadata": {
  "kernelspec": {
   "display_name": "Python 3",
   "language": "python",
   "name": "python3"
  },
  "language_info": {
   "codemirror_mode": {
    "name": "ipython",
    "version": 3
   },
   "file_extension": ".py",
   "mimetype": "text/x-python",
   "name": "python",
   "nbconvert_exporter": "python",
   "pygments_lexer": "ipython3",
   "version": "3.6.9"
  }
 },
 "nbformat": 4,
 "nbformat_minor": 4
}
