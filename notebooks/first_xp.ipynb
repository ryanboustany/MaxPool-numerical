{
 "cells": [
  {
   "cell_type": "code",
   "execution_count": 1,
   "metadata": {},
   "outputs": [],
   "source": [
    "import torch\n",
    "import torch.autograd as autograd"
   ]
  },
  {
   "cell_type": "markdown",
   "metadata": {},
   "source": [
    "# Main idea: compensation with max differentiation"
   ]
  },
  {
   "cell_type": "code",
   "execution_count": 2,
   "metadata": {},
   "outputs": [
    {
     "name": "stdout",
     "output_type": "stream",
     "text": [
      "zero is constantly zero\n",
      "[0.0, 0.0, 0.0, 0.0, 0.0]\n",
      "\n",
      "but its backward derivative is not\n",
      "5.960464477539063e-08\n",
      "5.960464477539063e-08\n",
      "5.960464477539063e-08\n",
      "5.960464477539063e-08\n",
      "5.960464477539063e-08\n"
     ]
    }
   ],
   "source": [
    "# Define x1 and x2\n",
    "x1 = torch.ones(4) * 1.14\n",
    "x2 = torch.tensor([1.0,2.0,3.0,4.0]) \n",
    "\n",
    "def max1(x):\n",
    "    res = x[0]\n",
    "    for i in range(3):\n",
    "        if x[i + 1] > res:\n",
    "            res = x[i + 1]\n",
    "    return res\n",
    "\n",
    "def max2(x):\n",
    "    return torch.max(x)\n",
    "\n",
    "def zero(t):\n",
    "    z = t * x1 # choose x1 or x2 here\n",
    "    return max1(z) - max2(z)\n",
    "\n",
    "# Test zero\n",
    "print(\"zero is constantly zero\")\n",
    "print([zero(t).item() for t in [0.0, 0.1, 1.0, -1e-4, -6.0]])\n",
    "\n",
    "# Compute backward derivatives using autograd\n",
    "print(\"\\nbut its backward derivative is not\")\n",
    "for t in [0.0, 0.1, 1.0, -1e-4, -6.0]:\n",
    "    t_tensor = torch.tensor([t], requires_grad=True)\n",
    "    output = zero(t_tensor)\n",
    "    output.backward()\n",
    "    print(t_tensor.grad.item())"
   ]
  },
  {
   "cell_type": "markdown",
   "metadata": {},
   "source": [
    "# Pure relu implementation\n",
    "The only nonlinearity in the following is `jax` native `nn.relu` function. From this we build variations of relu with different derivatives and max functions for four numbers with different derivatives. We then exploit the same mechanism as above."
   ]
  },
  {
   "cell_type": "code",
   "execution_count": 13,
   "metadata": {},
   "outputs": [],
   "source": [
    "# Two relu functions\n",
    "def relu(x):\n",
    "    return torch.relu(x)\n",
    "\n",
    "def relu2(x):\n",
    "    return torch.where(x >= 0, x, torch.tensor(0.0))\n",
    "\n",
    "def max01(x):\n",
    "    return (x[0] + x[1]) / 2 + relu((x[0] - x[1]) / 2) + relu((x[1] - x[0]) / 2)\n",
    "\n",
    "def max02(x):\n",
    "    return (x[0] + x[1]) / 2 + relu2((x[0] - x[1]) / 2) + relu((x[1] - x[0]) / 2)"
   ]
  },
  {
   "cell_type": "code",
   "execution_count": 14,
   "metadata": {},
   "outputs": [],
   "source": [
    "def max1(x):\n",
    "    return max01(torch.stack([max01(x[0:2]), max01(x[2:4])]))\n",
    "\n",
    "def max2(x):\n",
    "    return max02(torch.stack([max02(x[0:2]), max02(x[2:4])]))"
   ]
  },
  {
   "cell_type": "code",
   "execution_count": 3,
   "metadata": {},
   "outputs": [
    {
     "name": "stdout",
     "output_type": "stream",
     "text": [
      "zero_2 is constantly zero\n",
      "[0.0, 0.0, 0.0, 0.0, 0.0]\n",
      "\n",
      "but its backward derivative is not\n",
      "5.960464477539063e-08\n",
      "5.960464477539063e-08\n",
      "5.960464477539063e-08\n",
      "5.960464477539063e-08\n",
      "5.960464477539063e-08\n"
     ]
    }
   ],
   "source": [
    "# Function to test zero_2\n",
    "def zero_2(t):\n",
    "    z = t * x1 # choose x1 or x2 here\n",
    "    return max1(z) - max2(z)\n",
    "\n",
    "zero_2_values = [zero_2(torch.tensor(t, requires_grad=True)).item() for t in [0.0, 0.1, 1.0, -1e-4, -6.0]]\n",
    "print(\"zero_2 is constantly zero\")\n",
    "print(zero_2_values)\n",
    "\n",
    "# Compute backward derivatives using autograd\n",
    "print(\"\\nbut its backward derivative is not\")\n",
    "for t in [0.0, 0.1, 1.0, -1e-4, -6.0]:\n",
    "    t_tensor = torch.tensor([t], requires_grad=True)\n",
    "    output = zero_2(t_tensor)\n",
    "    output.backward()\n",
    "    print(t_tensor.grad.item())"
   ]
  }
 ],
 "metadata": {
  "kernelspec": {
   "display_name": "Python 3 (ipykernel)",
   "language": "python",
   "name": "python3"
  },
  "language_info": {
   "codemirror_mode": {
    "name": "ipython",
    "version": 3
   },
   "file_extension": ".py",
   "mimetype": "text/x-python",
   "name": "python",
   "nbconvert_exporter": "python",
   "pygments_lexer": "ipython3",
   "version": "3.11.4"
  }
 },
 "nbformat": 4,
 "nbformat_minor": 4
}
