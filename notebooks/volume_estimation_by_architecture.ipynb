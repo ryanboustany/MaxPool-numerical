{
 "cells": [
  {
   "cell_type": "code",
   "execution_count": 1,
   "metadata": {},
   "outputs": [],
   "source": [
    "import sys\n",
    "import os\n",
    "sys.path.insert(0,'..')\n",
    "import numpy as np\n",
    "import torch\n",
    "import torch.nn as nn\n",
    "import torch.optim as optim\n",
    "import torch.backends.cudnn as cudnn\n",
    "import torch.nn.init as init\n",
    "from torchvision import datasets, transforms\n",
    "from tqdm.notebook import tqdm\n",
    "import matplotlib.pyplot as plt\n",
    "import pandas as pd\n",
    "import seaborn as sns\n",
    "from maxpool import *\n",
    "from relu import *\n",
    "from models import *\n",
    "from data_utils import *\n",
    "%matplotlib inline"
   ]
  },
  {
   "cell_type": "code",
   "execution_count": 2,
   "metadata": {},
   "outputs": [],
   "source": [
    "seed = 0\n",
    "torch.manual_seed(seed)\n",
    "torch.cuda.manual_seed(seed)\n",
    "torch.cuda.manual_seed_all(seed)\n",
    "torch.use_deterministic_algorithms(True)\n",
    "os.environ[\"CUBLAS_WORKSPACE_CONFIG\"]=\":4096:8\"\n",
    "device = torch.device(\"cuda\" if torch.cuda.is_available() else \"cpu\")\n",
    "if torch.cuda.is_available():\n",
    "    cudnn.benchmark = False\n",
    "    # Deterministic convolutions\n",
    "    torch.backends.cudnn.deterministic = True"
   ]
  },
  {
   "cell_type": "code",
   "execution_count": 3,
   "metadata": {},
   "outputs": [],
   "source": [
    "maxpool_native = lambda: MaxPool2DBeta(0)\n",
    "maxpool_custom = lambda: MaxPool2DBeta(1)\n",
    "relu_0 = lambda:ReLUAlpha(0)\n",
    "relu_1 = lambda:ReLUAlpha(1)\n",
    "\n",
    "def init_weights(model):\n",
    "    for m in model.modules():\n",
    "        if isinstance(m, nn.Conv2d):\n",
    "            init.kaiming_uniform_(m.weight, mode='fan_in', nonlinearity='relu')\n",
    "            if m.bias is not None:\n",
    "                nn.init.constant_(m.bias, 0)\n",
    "        elif isinstance(m, nn.BatchNorm2d):\n",
    "            nn.init.constant_(m.weight, 1)\n",
    "            nn.init.constant_(m.bias, 0)\n",
    "        elif isinstance(m, nn.Linear):\n",
    "            init.normal_(m.weight, 0, 0.01)\n",
    "            if m.bias is not None:\n",
    "                nn.init.constant_(m.bias, 0)\n",
    "\n",
    "            \n",
    "def build_models(network, precision, batchnorm):\n",
    "    if batchnorm : \n",
    "        net1 = VGG(network, batch_norm=True, maxpool_fn=maxpool_native, relu_fn=relu_0)\n",
    "        net2 = VGG(network, batch_norm=True, maxpool_fn=maxpool_custom, relu_fn=relu_0)\n",
    "    else : \n",
    "        net1 = VGG(network, maxpool_fn=maxpool_native, relu_fn=relu_0)\n",
    "        net2 = VGG(network, maxpool_fn=maxpool_custom, relu_fn=relu_0)\n",
    "        \n",
    "    init_weights(net1)\n",
    "    net2.load_state_dict(net1.state_dict())\n",
    "    for net in [net1, net2]:\n",
    "        net.to(device)\n",
    "        if precision == 16:\n",
    "            net.half()\n",
    "        if precision == 64:\n",
    "            net.double()\n",
    "    return net1, net2\n",
    "\n",
    "def rebuild_model(net1, net2):\n",
    "    net1.apply(init_weights)\n",
    "    net2.load_state_dict(net1.state_dict())\n",
    "\n",
    "def compute_norms(net1, net2):\n",
    "    diff = 0\n",
    "    for p1, p2 in zip(net1.parameters(), net2.parameters()):\n",
    "        diff += torch.norm(p1.grad - p2.grad, float('+inf'))\n",
    "    return diff.item()"
   ]
  },
  {
   "cell_type": "code",
   "execution_count": 4,
   "metadata": {},
   "outputs": [],
   "source": [
    "batch_size = 128\n",
    "\n",
    "transform = transforms.Compose([\n",
    "        transforms.RandomCrop(32, padding=4),\n",
    "        transforms.RandomHorizontalFlip(),\n",
    "        transforms.ToTensor(),\n",
    "        transforms.Normalize((0.4914, 0.4822, 0.4465), (0.2023, 0.1994, 0.2010)),\n",
    "    ])\n",
    "traindata = datasets.CIFAR10(root=data_dir, train=True, download=False, transform=transform)\n",
    "trainloader = torch.utils.data.DataLoader(traindata, batch_size=batch_size)"
   ]
  },
  {
   "cell_type": "markdown",
   "metadata": {},
   "source": [
    "### Volume by precision"
   ]
  },
  {
   "cell_type": "code",
   "execution_count": 5,
   "metadata": {},
   "outputs": [
    {
     "data": {
      "application/vnd.jupyter.widget-view+json": {
       "model_id": "6c8cfbc5b3a249c1a0264067cddadf51",
       "version_major": 2,
       "version_minor": 0
      },
      "text/plain": [
       "precision:   0%|          | 0/3 [00:00<?, ?it/s]"
      ]
     },
     "metadata": {},
     "output_type": "display_data"
    },
    {
     "data": {
      "application/vnd.jupyter.widget-view+json": {
       "model_id": "",
       "version_major": 2,
       "version_minor": 0
      },
      "text/plain": [
       "run:   0%|          | 0/1 [00:00<?, ?it/s]"
      ]
     },
     "metadata": {},
     "output_type": "display_data"
    },
    {
     "data": {
      "application/vnd.jupyter.widget-view+json": {
       "model_id": "",
       "version_major": 2,
       "version_minor": 0
      },
      "text/plain": [
       "run:   0%|          | 0/1 [00:00<?, ?it/s]"
      ]
     },
     "metadata": {},
     "output_type": "display_data"
    },
    {
     "data": {
      "application/vnd.jupyter.widget-view+json": {
       "model_id": "",
       "version_major": 2,
       "version_minor": 0
      },
      "text/plain": [
       "run:   0%|          | 0/1 [00:00<?, ?it/s]"
      ]
     },
     "metadata": {},
     "output_type": "display_data"
    }
   ],
   "source": [
    "nb_experiments = 1\n",
    "df = pd.DataFrame(columns=[\"precision\", \"count\", \"iteration\"])\n",
    "for precision in tqdm([16,32,64], desc='precision'):\n",
    "    if precision == 64 :\n",
    "        nb_experiments = 1\n",
    "        threshold = 1e-15\n",
    "    if precision == 32 :\n",
    "        threshold = 1e-7\n",
    "    if precision == 16 :\n",
    "        threshold = 1e-3\n",
    "    count = 0\n",
    "    iteration = 0\n",
    "    (net1, net2) = build_models('VGG11', precision, False)\n",
    "    opt = optim.SGD([{'params': net1.parameters()}, {'params': net2.parameters()}], lr=0)\n",
    "    for run_id in tqdm(range(nb_experiments), desc='run', leave=False):\n",
    "        rebuild_model(net1, net2)\n",
    "        for x, y in trainloader:\n",
    "            opt.zero_grad()\n",
    "            x = x.to(device) # + torch.randn(x.size()).to(device)\n",
    "            if precision == 16:\n",
    "                x = x.half()\n",
    "            if precision == 64:\n",
    "                x = x.double()\n",
    "            y = y.to(device)\n",
    "            y1, y2 = net1(x), net2(x)\n",
    "            loss = nn.CrossEntropyLoss()(y1, y) + nn.CrossEntropyLoss()(y2, y)\n",
    "            loss.backward()\n",
    "            norm = compute_norms(net1, net2)\n",
    "            if norm > threshold:\n",
    "                count += 1\n",
    "            iteration += 1\n",
    "    df = df.append({\"precision\": precision,\n",
    "                        \"count\": count,\n",
    "                        \"iteration\": iteration}, ignore_index=True)\n",
    "    \n",
    "df['ratio'] = 100*df['count'] / df['iteration']"
   ]
  },
  {
   "cell_type": "code",
   "execution_count": 6,
   "metadata": {},
   "outputs": [
    {
     "data": {
      "text/html": [
       "<div>\n",
       "<style scoped>\n",
       "    .dataframe tbody tr th:only-of-type {\n",
       "        vertical-align: middle;\n",
       "    }\n",
       "\n",
       "    .dataframe tbody tr th {\n",
       "        vertical-align: top;\n",
       "    }\n",
       "\n",
       "    .dataframe thead th {\n",
       "        text-align: right;\n",
       "    }\n",
       "</style>\n",
       "<table border=\"1\" class=\"dataframe\">\n",
       "  <thead>\n",
       "    <tr style=\"text-align: right;\">\n",
       "      <th></th>\n",
       "      <th>precision</th>\n",
       "      <th>count</th>\n",
       "      <th>iteration</th>\n",
       "      <th>ratio</th>\n",
       "    </tr>\n",
       "  </thead>\n",
       "  <tbody>\n",
       "    <tr>\n",
       "      <th>0</th>\n",
       "      <td>16</td>\n",
       "      <td>391</td>\n",
       "      <td>391</td>\n",
       "      <td>100</td>\n",
       "    </tr>\n",
       "    <tr>\n",
       "      <th>1</th>\n",
       "      <td>32</td>\n",
       "      <td>216</td>\n",
       "      <td>391</td>\n",
       "      <td>55.243</td>\n",
       "    </tr>\n",
       "    <tr>\n",
       "      <th>2</th>\n",
       "      <td>64</td>\n",
       "      <td>0</td>\n",
       "      <td>391</td>\n",
       "      <td>0</td>\n",
       "    </tr>\n",
       "  </tbody>\n",
       "</table>\n",
       "</div>"
      ],
      "text/plain": [
       "  precision count iteration   ratio\n",
       "0        16   391       391     100\n",
       "1        32   216       391  55.243\n",
       "2        64     0       391       0"
      ]
     },
     "execution_count": 6,
     "metadata": {},
     "output_type": "execute_result"
    }
   ],
   "source": [
    "df"
   ]
  },
  {
   "cell_type": "code",
   "execution_count": 7,
   "metadata": {},
   "outputs": [
    {
     "data": {
      "application/vnd.jupyter.widget-view+json": {
       "model_id": "795724c873f846af8fd4ce8868345800",
       "version_major": 2,
       "version_minor": 0
      },
      "text/plain": [
       "precision:   0%|          | 0/3 [00:00<?, ?it/s]"
      ]
     },
     "metadata": {},
     "output_type": "display_data"
    },
    {
     "data": {
      "application/vnd.jupyter.widget-view+json": {
       "model_id": "",
       "version_major": 2,
       "version_minor": 0
      },
      "text/plain": [
       "run:   0%|          | 0/1 [00:00<?, ?it/s]"
      ]
     },
     "metadata": {},
     "output_type": "display_data"
    },
    {
     "name": "stdout",
     "output_type": "stream",
     "text": [
      "0.001895904541015625\n"
     ]
    },
    {
     "data": {
      "application/vnd.jupyter.widget-view+json": {
       "model_id": "",
       "version_major": 2,
       "version_minor": 0
      },
      "text/plain": [
       "run:   0%|          | 0/1 [00:00<?, ?it/s]"
      ]
     },
     "metadata": {},
     "output_type": "display_data"
    },
    {
     "name": "stdout",
     "output_type": "stream",
     "text": [
      "1.4835968613624573e-06\n"
     ]
    },
    {
     "data": {
      "application/vnd.jupyter.widget-view+json": {
       "model_id": "",
       "version_major": 2,
       "version_minor": 0
      },
      "text/plain": [
       "run:   0%|          | 0/1 [00:00<?, ?it/s]"
      ]
     },
     "metadata": {},
     "output_type": "display_data"
    }
   ],
   "source": [
    "nb_experiments = 1\n",
    "df = pd.DataFrame(columns=[\"precision\", \"count\"])\n",
    "for precision in tqdm([16,32,64], desc='precision'):\n",
    "    if precision == 64 :\n",
    "        nb_experiments = 1\n",
    "        threshold = 1e-15\n",
    "    if precision == 32 :\n",
    "        threshold = 1e-6\n",
    "    if precision == 16 :\n",
    "        threshold = 1e-3\n",
    "    count = 0\n",
    "    for run_id in tqdm(range(nb_experiments), desc='run', leave=False):\n",
    "        (net1, net2) = build_models('VGG11', precision, False)\n",
    "        opt = optim.SGD([{'params': net1.parameters()}, {'params': net2.parameters()}], lr=0)\n",
    "        for x, y in trainloader:\n",
    "            opt.zero_grad()\n",
    "            x = x.to(device) # + torch.randn(x.size()).to(device)\n",
    "            if precision == 16:\n",
    "                x = x.half()\n",
    "            if precision == 64:\n",
    "                x = x.double()\n",
    "            y = y.to(device)\n",
    "            y1, y2 = net1(x), net2(x)\n",
    "            loss = nn.CrossEntropyLoss()(y1, y) + nn.CrossEntropyLoss()(y2, y)\n",
    "            loss.backward()\n",
    "            norm = compute_norms(net1, net2)\n",
    "            if norm > threshold:\n",
    "                print(norm)\n",
    "                count += 1\n",
    "                break\n",
    "    df = df.append({\"precision\": precision,\n",
    "                    \"count\": count}, ignore_index=True)\n",
    "    \n",
    "df['ratio'] = df['count'] / nb_experiments"
   ]
  },
  {
   "cell_type": "code",
   "execution_count": 8,
   "metadata": {},
   "outputs": [
    {
     "data": {
      "text/html": [
       "<div>\n",
       "<style scoped>\n",
       "    .dataframe tbody tr th:only-of-type {\n",
       "        vertical-align: middle;\n",
       "    }\n",
       "\n",
       "    .dataframe tbody tr th {\n",
       "        vertical-align: top;\n",
       "    }\n",
       "\n",
       "    .dataframe thead th {\n",
       "        text-align: right;\n",
       "    }\n",
       "</style>\n",
       "<table border=\"1\" class=\"dataframe\">\n",
       "  <thead>\n",
       "    <tr style=\"text-align: right;\">\n",
       "      <th></th>\n",
       "      <th>precision</th>\n",
       "      <th>count</th>\n",
       "      <th>ratio</th>\n",
       "    </tr>\n",
       "  </thead>\n",
       "  <tbody>\n",
       "    <tr>\n",
       "      <th>0</th>\n",
       "      <td>16</td>\n",
       "      <td>1</td>\n",
       "      <td>1</td>\n",
       "    </tr>\n",
       "    <tr>\n",
       "      <th>1</th>\n",
       "      <td>32</td>\n",
       "      <td>1</td>\n",
       "      <td>1</td>\n",
       "    </tr>\n",
       "    <tr>\n",
       "      <th>2</th>\n",
       "      <td>64</td>\n",
       "      <td>0</td>\n",
       "      <td>0</td>\n",
       "    </tr>\n",
       "  </tbody>\n",
       "</table>\n",
       "</div>"
      ],
      "text/plain": [
       "  precision count ratio\n",
       "0        16     1     1\n",
       "1        32     1     1\n",
       "2        64     0     0"
      ]
     },
     "execution_count": 8,
     "metadata": {},
     "output_type": "execute_result"
    }
   ],
   "source": [
    "df"
   ]
  },
  {
   "cell_type": "markdown",
   "metadata": {},
   "source": [
    "### Volume by network size"
   ]
  },
  {
   "cell_type": "code",
   "execution_count": 17,
   "metadata": {},
   "outputs": [
    {
     "data": {
      "application/vnd.jupyter.widget-view+json": {
       "model_id": "7852b987783545bbbcf5d5643084111c",
       "version_major": 2,
       "version_minor": 0
      },
      "text/plain": [
       "precision:   0%|          | 0/3 [00:00<?, ?it/s]"
      ]
     },
     "metadata": {},
     "output_type": "display_data"
    },
    {
     "data": {
      "application/vnd.jupyter.widget-view+json": {
       "model_id": "",
       "version_major": 2,
       "version_minor": 0
      },
      "text/plain": [
       "VGG_type:   0%|          | 0/4 [00:00<?, ?it/s]"
      ]
     },
     "metadata": {},
     "output_type": "display_data"
    },
    {
     "data": {
      "application/vnd.jupyter.widget-view+json": {
       "model_id": "",
       "version_major": 2,
       "version_minor": 0
      },
      "text/plain": [
       "run:   0%|          | 0/1 [00:00<?, ?it/s]"
      ]
     },
     "metadata": {},
     "output_type": "display_data"
    },
    {
     "data": {
      "application/vnd.jupyter.widget-view+json": {
       "model_id": "",
       "version_major": 2,
       "version_minor": 0
      },
      "text/plain": [
       "run:   0%|          | 0/1 [00:00<?, ?it/s]"
      ]
     },
     "metadata": {},
     "output_type": "display_data"
    },
    {
     "data": {
      "application/vnd.jupyter.widget-view+json": {
       "model_id": "",
       "version_major": 2,
       "version_minor": 0
      },
      "text/plain": [
       "run:   0%|          | 0/1 [00:00<?, ?it/s]"
      ]
     },
     "metadata": {},
     "output_type": "display_data"
    },
    {
     "data": {
      "application/vnd.jupyter.widget-view+json": {
       "model_id": "",
       "version_major": 2,
       "version_minor": 0
      },
      "text/plain": [
       "run:   0%|          | 0/1 [00:00<?, ?it/s]"
      ]
     },
     "metadata": {},
     "output_type": "display_data"
    },
    {
     "data": {
      "application/vnd.jupyter.widget-view+json": {
       "model_id": "",
       "version_major": 2,
       "version_minor": 0
      },
      "text/plain": [
       "VGG_type:   0%|          | 0/4 [00:00<?, ?it/s]"
      ]
     },
     "metadata": {},
     "output_type": "display_data"
    },
    {
     "data": {
      "application/vnd.jupyter.widget-view+json": {
       "model_id": "",
       "version_major": 2,
       "version_minor": 0
      },
      "text/plain": [
       "run:   0%|          | 0/1 [00:00<?, ?it/s]"
      ]
     },
     "metadata": {},
     "output_type": "display_data"
    },
    {
     "data": {
      "application/vnd.jupyter.widget-view+json": {
       "model_id": "",
       "version_major": 2,
       "version_minor": 0
      },
      "text/plain": [
       "run:   0%|          | 0/1 [00:00<?, ?it/s]"
      ]
     },
     "metadata": {},
     "output_type": "display_data"
    },
    {
     "data": {
      "application/vnd.jupyter.widget-view+json": {
       "model_id": "",
       "version_major": 2,
       "version_minor": 0
      },
      "text/plain": [
       "run:   0%|          | 0/1 [00:00<?, ?it/s]"
      ]
     },
     "metadata": {},
     "output_type": "display_data"
    },
    {
     "data": {
      "application/vnd.jupyter.widget-view+json": {
       "model_id": "",
       "version_major": 2,
       "version_minor": 0
      },
      "text/plain": [
       "run:   0%|          | 0/1 [00:00<?, ?it/s]"
      ]
     },
     "metadata": {},
     "output_type": "display_data"
    },
    {
     "data": {
      "application/vnd.jupyter.widget-view+json": {
       "model_id": "",
       "version_major": 2,
       "version_minor": 0
      },
      "text/plain": [
       "VGG_type:   0%|          | 0/4 [00:00<?, ?it/s]"
      ]
     },
     "metadata": {},
     "output_type": "display_data"
    },
    {
     "data": {
      "application/vnd.jupyter.widget-view+json": {
       "model_id": "",
       "version_major": 2,
       "version_minor": 0
      },
      "text/plain": [
       "run:   0%|          | 0/1 [00:00<?, ?it/s]"
      ]
     },
     "metadata": {},
     "output_type": "display_data"
    },
    {
     "data": {
      "application/vnd.jupyter.widget-view+json": {
       "model_id": "",
       "version_major": 2,
       "version_minor": 0
      },
      "text/plain": [
       "run:   0%|          | 0/1 [00:00<?, ?it/s]"
      ]
     },
     "metadata": {},
     "output_type": "display_data"
    },
    {
     "data": {
      "application/vnd.jupyter.widget-view+json": {
       "model_id": "",
       "version_major": 2,
       "version_minor": 0
      },
      "text/plain": [
       "run:   0%|          | 0/1 [00:00<?, ?it/s]"
      ]
     },
     "metadata": {},
     "output_type": "display_data"
    },
    {
     "data": {
      "application/vnd.jupyter.widget-view+json": {
       "model_id": "",
       "version_major": 2,
       "version_minor": 0
      },
      "text/plain": [
       "run:   0%|          | 0/1 [00:00<?, ?it/s]"
      ]
     },
     "metadata": {},
     "output_type": "display_data"
    }
   ],
   "source": [
    "nb_experiments = 1\n",
    "df1 = pd.DataFrame(columns=[\"precision\", \"count\", \"network\", \"iteration\"])\n",
    "for precision in tqdm([16,32,64], desc='precision'):\n",
    "    if precision == 64 :\n",
    "        nb_experiments = 1\n",
    "        threshold = 1e-15\n",
    "    if precision == 32 :\n",
    "        threshold = 1e-7\n",
    "    if precision == 16 :\n",
    "        threshold = 1e-3\n",
    "    for network in tqdm([\"VGG11\",\"VGG13\",\"VGG16\",\"VGG19\"], desc='VGG_type', leave=False):\n",
    "        count = 0\n",
    "        iteration = 0\n",
    "        (net1, net2) = build_models(network, precision, False)\n",
    "        opt = optim.SGD([{'params': net1.parameters()}, {'params': net2.parameters()}], lr=0)\n",
    "        for run_id in tqdm(range(nb_experiments), desc='run', leave=False):\n",
    "            rebuild_model(net1, net2)\n",
    "            for x, y in trainloader:\n",
    "                opt.zero_grad()\n",
    "                x = x.to(device) # + torch.randn(x.size()).to(device)\n",
    "                if precision == 16:\n",
    "                    x = x.half()\n",
    "                if precision == 64:\n",
    "                    x = x.double()\n",
    "                y = y.to(device)\n",
    "                y1, y2 = net1(x), net2(x)\n",
    "                loss = nn.CrossEntropyLoss()(y1, y) + nn.CrossEntropyLoss()(y2, y)\n",
    "                loss.backward()\n",
    "                norm = compute_norms(net1, net2)\n",
    "                if norm > threshold:\n",
    "                    count += 1\n",
    "                iteration += 1\n",
    "        df1 = df1.append({\"precision\": precision,\n",
    "                        \"network\": network,\n",
    "                        \"count\": count,\n",
    "                        \"iteration\": iteration}, ignore_index=True)\n",
    "\n",
    "df1['ratio'] = 100*df1['count'] / df1['iteration']"
   ]
  },
  {
   "cell_type": "markdown",
   "metadata": {},
   "source": [
    "### Volume by batch size"
   ]
  },
  {
   "cell_type": "code",
   "execution_count": null,
   "metadata": {},
   "outputs": [
    {
     "data": {
      "application/vnd.jupyter.widget-view+json": {
       "model_id": "ff5409465bfa41e5b19d9471f9b301b6",
       "version_major": 2,
       "version_minor": 0
      },
      "text/plain": [
       "precision:   0%|          | 0/3 [00:00<?, ?it/s]"
      ]
     },
     "metadata": {},
     "output_type": "display_data"
    },
    {
     "data": {
      "application/vnd.jupyter.widget-view+json": {
       "model_id": "",
       "version_major": 2,
       "version_minor": 0
      },
      "text/plain": [
       "batch_size:   0%|          | 0/4 [00:00<?, ?it/s]"
      ]
     },
     "metadata": {},
     "output_type": "display_data"
    },
    {
     "data": {
      "application/vnd.jupyter.widget-view+json": {
       "model_id": "",
       "version_major": 2,
       "version_minor": 0
      },
      "text/plain": [
       "run:   0%|          | 0/1 [00:00<?, ?it/s]"
      ]
     },
     "metadata": {},
     "output_type": "display_data"
    },
    {
     "data": {
      "application/vnd.jupyter.widget-view+json": {
       "model_id": "",
       "version_major": 2,
       "version_minor": 0
      },
      "text/plain": [
       "run:   0%|          | 0/1 [00:00<?, ?it/s]"
      ]
     },
     "metadata": {},
     "output_type": "display_data"
    },
    {
     "data": {
      "application/vnd.jupyter.widget-view+json": {
       "model_id": "",
       "version_major": 2,
       "version_minor": 0
      },
      "text/plain": [
       "run:   0%|          | 0/1 [00:00<?, ?it/s]"
      ]
     },
     "metadata": {},
     "output_type": "display_data"
    },
    {
     "data": {
      "application/vnd.jupyter.widget-view+json": {
       "model_id": "",
       "version_major": 2,
       "version_minor": 0
      },
      "text/plain": [
       "run:   0%|          | 0/1 [00:00<?, ?it/s]"
      ]
     },
     "metadata": {},
     "output_type": "display_data"
    },
    {
     "data": {
      "application/vnd.jupyter.widget-view+json": {
       "model_id": "",
       "version_major": 2,
       "version_minor": 0
      },
      "text/plain": [
       "batch_size:   0%|          | 0/4 [00:00<?, ?it/s]"
      ]
     },
     "metadata": {},
     "output_type": "display_data"
    },
    {
     "data": {
      "application/vnd.jupyter.widget-view+json": {
       "model_id": "",
       "version_major": 2,
       "version_minor": 0
      },
      "text/plain": [
       "run:   0%|          | 0/1 [00:00<?, ?it/s]"
      ]
     },
     "metadata": {},
     "output_type": "display_data"
    },
    {
     "data": {
      "application/vnd.jupyter.widget-view+json": {
       "model_id": "",
       "version_major": 2,
       "version_minor": 0
      },
      "text/plain": [
       "run:   0%|          | 0/1 [00:00<?, ?it/s]"
      ]
     },
     "metadata": {},
     "output_type": "display_data"
    },
    {
     "data": {
      "application/vnd.jupyter.widget-view+json": {
       "model_id": "",
       "version_major": 2,
       "version_minor": 0
      },
      "text/plain": [
       "run:   0%|          | 0/1 [00:00<?, ?it/s]"
      ]
     },
     "metadata": {},
     "output_type": "display_data"
    },
    {
     "data": {
      "application/vnd.jupyter.widget-view+json": {
       "model_id": "",
       "version_major": 2,
       "version_minor": 0
      },
      "text/plain": [
       "run:   0%|          | 0/1 [00:00<?, ?it/s]"
      ]
     },
     "metadata": {},
     "output_type": "display_data"
    },
    {
     "data": {
      "application/vnd.jupyter.widget-view+json": {
       "model_id": "13568970136c454c83116d7df6ef77fa",
       "version_major": 2,
       "version_minor": 0
      },
      "text/plain": [
       "batch_size:   0%|          | 0/4 [00:00<?, ?it/s]"
      ]
     },
     "metadata": {},
     "output_type": "display_data"
    },
    {
     "data": {
      "application/vnd.jupyter.widget-view+json": {
       "model_id": "",
       "version_major": 2,
       "version_minor": 0
      },
      "text/plain": [
       "run:   0%|          | 0/1 [00:00<?, ?it/s]"
      ]
     },
     "metadata": {},
     "output_type": "display_data"
    },
    {
     "data": {
      "application/vnd.jupyter.widget-view+json": {
       "model_id": "",
       "version_major": 2,
       "version_minor": 0
      },
      "text/plain": [
       "run:   0%|          | 0/1 [00:00<?, ?it/s]"
      ]
     },
     "metadata": {},
     "output_type": "display_data"
    },
    {
     "data": {
      "application/vnd.jupyter.widget-view+json": {
       "model_id": "",
       "version_major": 2,
       "version_minor": 0
      },
      "text/plain": [
       "run:   0%|          | 0/1 [00:00<?, ?it/s]"
      ]
     },
     "metadata": {},
     "output_type": "display_data"
    },
    {
     "data": {
      "application/vnd.jupyter.widget-view+json": {
       "model_id": "8592027545764c75aa2f79eec4279a23",
       "version_major": 2,
       "version_minor": 0
      },
      "text/plain": [
       "run:   0%|          | 0/1 [00:00<?, ?it/s]"
      ]
     },
     "metadata": {},
     "output_type": "display_data"
    }
   ],
   "source": [
    "nb_experiments = 1\n",
    "df2 = pd.DataFrame(columns=[\"precision\", \"count\", \"batch_size\",\"iteration\"])\n",
    "for precision in tqdm([16,32,64], desc='precision'):\n",
    "    if precision == 64 :\n",
    "        threshold = 1e-15\n",
    "        nb_experiments = 1\n",
    "    if precision == 32 :\n",
    "        threshold = 1e-7\n",
    "    if precision == 16 :\n",
    "        threshold = 1e-3\n",
    "    for batch_size in tqdm([64, 256, 512, 1024], desc='batch_size', leave=False):\n",
    "        trainloader = torch.utils.data.DataLoader(traindata, batch_size=batch_size)\n",
    "        count = 0\n",
    "        iteration = 0\n",
    "        (net1, net2) = build_models(network, precision, False)\n",
    "        opt = optim.SGD([{'params': net1.parameters()}, {'params': net2.parameters()}], lr=0)\n",
    "        for run_id in tqdm(range(nb_experiments), desc='run', leave=False):\n",
    "            rebuild_model(net1, net2) \n",
    "            for x, y in trainloader:\n",
    "                opt.zero_grad()\n",
    "                x = x.to(device)\n",
    "                if precision == 16:\n",
    "                    x = x.half()\n",
    "                if precision == 64:\n",
    "                    x = x.double()\n",
    "                y = y.to(device)\n",
    "                y1 = net1(x)\n",
    "                y2 = net2(x)\n",
    "                l1 = nn.CrossEntropyLoss()(y1, y)\n",
    "                l2 = nn.CrossEntropyLoss()(y2, y)\n",
    "                l1.backward(), l2.backward()\n",
    "                norm = compute_norms(net1, net2)\n",
    "                if norm > threshold:\n",
    "                    count += 1\n",
    "                iteration += 1\n",
    "        df2 = df2.append({\"precision\": precision,\n",
    "                        \"batch_size\": batch_size,\n",
    "                        \"count\": count ,\n",
    "                        \"iteration\": iteration}, ignore_index=True)\n",
    "        \n",
    "df2['ratio'] = 100*df2['count'] / df2['iteration']"
   ]
  },
  {
   "cell_type": "markdown",
   "metadata": {},
   "source": [
    "### Volume by batch norm"
   ]
  },
  {
   "cell_type": "code",
   "execution_count": 11,
   "metadata": {},
   "outputs": [
    {
     "data": {
      "application/vnd.jupyter.widget-view+json": {
       "model_id": "",
       "version_major": 2,
       "version_minor": 0
      },
      "text/plain": [
       "run:   0%|          | 0/1 [00:00<?, ?it/s]"
      ]
     },
     "metadata": {},
     "output_type": "display_data"
    },
    {
     "data": {
      "application/vnd.jupyter.widget-view+json": {
       "model_id": "",
       "version_major": 2,
       "version_minor": 0
      },
      "text/plain": [
       "batchnorm:   0%|          | 0/2 [00:00<?, ?it/s]"
      ]
     },
     "metadata": {},
     "output_type": "display_data"
    },
    {
     "data": {
      "application/vnd.jupyter.widget-view+json": {
       "model_id": "",
       "version_major": 2,
       "version_minor": 0
      },
      "text/plain": [
       "run:   0%|          | 0/1 [00:00<?, ?it/s]"
      ]
     },
     "metadata": {},
     "output_type": "display_data"
    },
    {
     "data": {
      "application/vnd.jupyter.widget-view+json": {
       "model_id": "",
       "version_major": 2,
       "version_minor": 0
      },
      "text/plain": [
       "run:   0%|          | 0/1 [00:00<?, ?it/s]"
      ]
     },
     "metadata": {},
     "output_type": "display_data"
    },
    {
     "data": {
      "application/vnd.jupyter.widget-view+json": {
       "model_id": "",
       "version_major": 2,
       "version_minor": 0
      },
      "text/plain": [
       "batchnorm:   0%|          | 0/2 [00:00<?, ?it/s]"
      ]
     },
     "metadata": {},
     "output_type": "display_data"
    },
    {
     "data": {
      "application/vnd.jupyter.widget-view+json": {
       "model_id": "",
       "version_major": 2,
       "version_minor": 0
      },
      "text/plain": [
       "run:   0%|          | 0/1 [00:00<?, ?it/s]"
      ]
     },
     "metadata": {},
     "output_type": "display_data"
    },
    {
     "data": {
      "application/vnd.jupyter.widget-view+json": {
       "model_id": "",
       "version_major": 2,
       "version_minor": 0
      },
      "text/plain": [
       "run:   0%|          | 0/1 [00:00<?, ?it/s]"
      ]
     },
     "metadata": {},
     "output_type": "display_data"
    }
   ],
   "source": [
    "nb_experiments = 1\n",
    "trainloader = torch.utils.data.DataLoader(traindata, batch_size=128)\n",
    "df3 = pd.DataFrame(columns=[\"precision\", \"count\", \"batchnorm\",\"iteration\"])\n",
    "for precision in tqdm([16,32,64], desc='precision'):\n",
    "    if precision == 64 :\n",
    "        threshold = 1e-15\n",
    "        nb_experiments = 1\n",
    "    if precision == 32 :\n",
    "        threshold = 1e-7\n",
    "    if precision == 16 :\n",
    "        threshold = 1e-3\n",
    "    for batchnorm in tqdm([True,False], desc='batchnorm', leave=False):\n",
    "        count = 0\n",
    "        iteration = 0\n",
    "        (net1, net2) = build_models('VGG11', precision, batchnorm)\n",
    "        opt = optim.SGD([{'params': net1.parameters()}, {'params': net2.parameters()}], lr=0)\n",
    "        for run_id in tqdm(range(nb_experiments), desc='run', leave=False):\n",
    "            rebuild_model(net1, net2) \n",
    "            for x, y in trainloader:\n",
    "                opt.zero_grad()\n",
    "                x = x.to(device)\n",
    "                if precision == 16:\n",
    "                    x = x.half()\n",
    "                if precision == 64:\n",
    "                    x = x.double()\n",
    "                y = y.to(device)\n",
    "                y1 = net1(x)\n",
    "                y2 = net2(x)\n",
    "                l1 = nn.CrossEntropyLoss()(y1, y)\n",
    "                l2 = nn.CrossEntropyLoss()(y2, y)\n",
    "                l1.backward(), l2.backward()\n",
    "                norm = compute_norms(net1, net2)\n",
    "                if norm > threshold:\n",
    "                    count += 1\n",
    "                iteration += 1\n",
    "        df3 = df3.append({\"precision\": precision,\n",
    "                        \"batchnorm\": batchnorm,\n",
    "                        \"count\": count ,\n",
    "                        \"iteration\": iteration}, ignore_index=True)\n",
    "        \n",
    "df3['ratio'] = 100*df3['count'] / df3['iteration']"
   ]
  },
  {
   "cell_type": "code",
   "execution_count": 18,
   "metadata": {},
   "outputs": [
    {
     "data": {
      "image/png": "[encoded data removed]",
      "text/plain": [
       "<Figure size 2160x720 with 3 Axes>"
      ]
     },
     "metadata": {
      "needs_background": "light"
     },
     "output_type": "display_data"
    }
   ],
   "source": [
    "import matplotlib.pyplot as plt\n",
    "import seaborn as sns\n",
    "\n",
    "# Create a figure with subplots\n",
    "fig, axes = plt.subplots(nrows=1, ncols=3, figsize=(30, 10), sharey=True)\n",
    "\n",
    "# First plot\n",
    "sns.barplot(x=\"network\", y=\"ratio\", hue=\"precision\", data=df1, ax=axes[0])\n",
    "axes[0].set_xlabel('Networks', fontsize=50)\n",
    "axes[0].set_ylabel('Proportion (%)', fontsize=60)\n",
    "axes[0].tick_params(axis='both', labelsize=40)\n",
    "axes[0].grid(True, linestyle='--', alpha=0.6, linewidth=0.7)\n",
    "axes[0].get_legend().remove()\n",
    "\n",
    "# Second plot\n",
    "sns.barplot(x=\"batch_size\", y=\"ratio\", hue=\"precision\", data=df2, ax=axes[1])\n",
    "axes[1].set_xlabel('Number of mini-batch size', fontsize=50)\n",
    "axes[1].set_ylabel('')\n",
    "axes[1].tick_params(axis='both', labelsize=50)\n",
    "axes[1].grid(True, linestyle='--', alpha=0.6, linewidth=0.7)\n",
    "axes[1].get_legend().remove()\n",
    "\n",
    "# Third plot\n",
    "sns.barplot(x=\"batchnorm\", y=\"ratio\", hue=\"precision\", data=df3, ax=axes[2])\n",
    "axes[2].set_xlabel('Batch-normalization', fontsize=50)\n",
    "axes[2].set_ylabel('')\n",
    "axes[2].tick_params(axis='both', labelsize=50)\n",
    "axes[2].grid(True, linestyle='--', alpha=0.6, linewidth=0.7)\n",
    "axes[2].get_legend().remove()\n",
    "\n",
    "# Create an overall legend in the figure\n",
    "handles, labels = axes[0].get_legend_handles_labels()\n",
    "fig.legend(handles, labels, title='Precision', fontsize=40, title_fontsize=40, bbox_to_anchor=(1.1, 1.1))\n",
    "\n",
    "plt.tight_layout()\n",
    "plt.savefig('figures/impactfactors.pdf', bbox_inches='tight')\n",
    "plt.show()\n"
   ]
  },
  {
   "cell_type": "code",
   "execution_count": null,
   "metadata": {},
   "outputs": [],
   "source": []
  }
 ],
 "metadata": {
  "kernelspec": {
   "display_name": "Python 3",
   "language": "python",
   "name": "python3"
  },
  "language_info": {
   "codemirror_mode": {
    "name": "ipython",
    "version": 3
   },
   "file_extension": ".py",
   "mimetype": "text/x-python",
   "name": "python",
   "nbconvert_exporter": "python",
   "pygments_lexer": "ipython3",
   "version": "3.11.4"
  }
 },
 "nbformat": 4,
 "nbformat_minor": 4
}
